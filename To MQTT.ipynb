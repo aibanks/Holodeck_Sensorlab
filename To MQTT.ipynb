{
 "cells": [
  {
   "cell_type": "code",
   "execution_count": null,
   "source": [
    "#pip install paho-mqtt"
   ],
   "outputs": [],
   "metadata": {}
  },
  {
   "cell_type": "code",
   "execution_count": 11,
   "source": [
    "## Publishing to MQTT + subscribing and printing the message and metadata\r\n",
    "\r\n",
    "import paho.mqtt.client as mqtt\r\n",
    "import time\r\n",
    "\r\n",
    "# The callback for when a PUBLISH message is received from the server.\r\n",
    "def on_message(client, userdata, message):\r\n",
    "    print(\"message received \" ,str(message.payload.decode(\"utf-8\")))\r\n",
    "    print(\"message topic=\",message.topic)\r\n",
    "    print(\"message qos=\",message.qos)\r\n",
    "    print(\"message retain flag=\",message.retain)\r\n",
    "\r\n",
    "publish_key = \"pub-c-defc7b94-6e9a-42fd-b25a-883c2e605a89\"  #\"<your publish key>\"\r\n",
    "subscribe_key = \"sub-c-5a7d9a20-e5a9-11eb-bc98-fa4b4b21bdc4\"    #\"<your subscribe key>\"\r\n",
    "client_id = \"E4_1\"     #\"<your unique client identifier>\"\r\n",
    "\r\n",
    "print(\"creating new instance\")\r\n",
    "\r\n",
    "client = mqtt.Client(client_id=publish_key + \"/\" + subscribe_key + \"/\" + client_id)\r\n",
    "client.on_message = on_message\r\n",
    "print(\"connecting to broker\")\r\n",
    "client.connect(\"mqtt.pndsn.com\", 1883, 60)\r\n",
    "\r\n",
    "client.loop_start() #start the loop\r\n",
    "\r\n",
    "print(\"Subscribing to topic\",\"E4\")\r\n",
    "client.subscribe(\"E4\")\r\n",
    "print(\"Publishing message to topic\",\"E4\")\r\n",
    "client.publish(\"E4\", \"Hello World\")\r\n",
    "\r\n",
    "time.sleep(4) # wait\r\n",
    "client.loop_stop() #stop the loop"
   ],
   "outputs": [
    {
     "output_type": "stream",
     "name": "stdout",
     "text": [
      "creating new instance\n",
      "connecting to broker\n",
      "Subscribing to topic E4\n",
      "Publishing message to topic E4\n"
     ]
    }
   ],
   "metadata": {}
  },
  {
   "cell_type": "code",
   "execution_count": 14,
   "source": [
    "## Publishing to MQTT + subscribing and printing the message and metadata\r\n",
    "## Trying with iot.eclipse.org public server\r\n",
    "\r\n",
    "import paho.mqtt.client as mqtt\r\n",
    "import time\r\n",
    "\r\n",
    "# The callback for when a PUBLISH message is received from the server.\r\n",
    "def on_message(client, userdata, message):\r\n",
    "    print(\"message received \" ,str(message.payload.decode(\"utf-8\")))\r\n",
    "    print(\"message topic=\",message.topic)\r\n",
    "    print(\"message qos=\",message.qos)\r\n",
    "    print(\"message retain flag=\",message.retain)\r\n",
    "\r\n",
    "client_id = \"E4\"     #\"<your unique client identifier>\"\r\n",
    "broker_address = \"test.mosquitto.org\"\r\n",
    "print(\"creating new instance\")\r\n",
    "\r\n",
    "client = mqtt.Client(client_id) #create new instance\r\n",
    "client.on_message = on_message  #attach function to callback\r\n",
    "print(\"connecting to broker\")\r\n",
    "client.connect(broker_address)  #connect to broker\r\n",
    "\r\n",
    "client.loop_start() #start the loop\r\n",
    "\r\n",
    "print(\"Subscribing to topic\",\"E4_TB\")\r\n",
    "client.subscribe(\"E4_TB\")\r\n",
    "print(\"Publishing message to topic\",\"E4_TB\")\r\n",
    "client.publish(\"E4_TB\", \"Hello World\")\r\n",
    "\r\n",
    "time.sleep(4) # wait\r\n",
    "client.loop_stop() #stop the loop"
   ],
   "outputs": [
    {
     "output_type": "stream",
     "name": "stdout",
     "text": [
      "creating new instance\n",
      "connecting to broker\n",
      "Subscribing to topic E4_TB\n",
      "Publishing message to topic E4_TB\n",
      "message received  Hello World\n",
      "message topic= E4_TB\n",
      "message qos= 0\n",
      "message retain flag= 0\n"
     ]
    }
   ],
   "metadata": {}
  },
  {
   "cell_type": "code",
   "execution_count": 2,
   "source": [
    "disconnect()"
   ],
   "outputs": [],
   "metadata": {}
  },
  {
   "cell_type": "code",
   "execution_count": 1,
   "source": [
    "## Publishing to MQTT + subscribing and printing the message and metadata from live E4 data\r\n",
    "## Trying with public MQTT server\r\n",
    "\r\n",
    "import socket\r\n",
    "import time\r\n",
    "import pylsl\r\n",
    "import datetime as dt\r\n",
    "import matplotlib.pyplot as plt\r\n",
    "import matplotlib.animation as animation\r\n",
    "from matplotlib.animation import FuncAnimation\r\n",
    "import threading\r\n",
    "%matplotlib qt\r\n",
    "#%matplotlib inline\r\n",
    "\r\n",
    "# SELECT DATA TO STREAM\r\n",
    "acc = False      # 3-axis acceleration\r\n",
    "bvp = False      # Blood Volume Pulse\r\n",
    "gsr = False      # Galvanic Skin Response (Electrodermal Activity)\r\n",
    "tmp = True       # Temperature\r\n",
    "ibi = False      # Interbeat Interval and Heartbeat\r\n",
    "bat = False      # Device Battery\r\n",
    "tag = False      # Tag taken from the device (by pressing the button)\r\n",
    "\r\n",
    "serverAddress = '127.0.0.1'\r\n",
    "serverPort = 28000\r\n",
    "bufferSize = 4096\r\n",
    "\r\n",
    "deviceID = 'CDCB11' # 'A03003'\r\n",
    "\r\n",
    "def connect():\r\n",
    "    global s\r\n",
    "    s = socket.socket(socket.AF_INET, socket.SOCK_STREAM)\r\n",
    "    s.settimeout(3)\r\n",
    "\r\n",
    "    print(\"Connecting to server\")\r\n",
    "    s.connect((serverAddress, serverPort))\r\n",
    "    print(\"Connected to server\\n\")\r\n",
    "\r\n",
    "    print(\"Devices available:\")\r\n",
    "    s.send(\"device_list\\r\\n\".encode())\r\n",
    "    response = s.recv(bufferSize)\r\n",
    "    print(response.decode(\"utf-8\"))\r\n",
    "\r\n",
    "    print(\"Connecting to device\")\r\n",
    "    s.send((\"device_connect \" + deviceID + \"\\r\\n\").encode())\r\n",
    "    response = s.recv(bufferSize)\r\n",
    "    print(response.decode(\"utf-8\"))\r\n",
    "\r\n",
    "    print(\"Pausing data receiving\")\r\n",
    "    s.send(\"pause ON\\r\\n\".encode())\r\n",
    "    response = s.recv(bufferSize)\r\n",
    "    print(response.decode(\"utf-8\"))\r\n",
    "connect()\r\n",
    "\r\n",
    "time.sleep(1)\r\n",
    "\r\n",
    "def suscribe_to_data():\r\n",
    "    if acc:\r\n",
    "        print(\"Suscribing to ACC\")\r\n",
    "        s.send((\"device_subscribe \" + 'acc' + \" ON\\r\\n\").encode())\r\n",
    "        response = s.recv(bufferSize)\r\n",
    "        print(response.decode(\"utf-8\"))\r\n",
    "    if bvp:\r\n",
    "        print(\"Suscribing to BVP\")\r\n",
    "        s.send((\"device_subscribe \" + 'bvp' + \" ON\\r\\n\").encode())\r\n",
    "        response = s.recv(bufferSize)\r\n",
    "        print(response.decode(\"utf-8\"))\r\n",
    "    if gsr:\r\n",
    "        print(\"Suscribing to GSR\")\r\n",
    "        s.send((\"device_subscribe \" + 'gsr' + \" ON\\r\\n\").encode())\r\n",
    "        response = s.recv(bufferSize)\r\n",
    "        print(response.decode(\"utf-8\"))\r\n",
    "    if tmp:\r\n",
    "        print(\"Suscribing to Temp\")\r\n",
    "        s.send((\"device_subscribe \" + 'tmp' + \" ON\\r\\n\").encode())\r\n",
    "        response = s.recv(bufferSize)\r\n",
    "        print(response.decode(\"utf-8\"))\r\n",
    "    if ibi:\r\n",
    "        print(\"Suscribing to IBI\")\r\n",
    "        s.send((\"device_subscribe \" + 'ibi' + \" ON\\r\\n\").encode())\r\n",
    "        response = s.recv(bufferSize)\r\n",
    "        print(response.decode(\"utf-8\"))\r\n",
    "    if bat:\r\n",
    "        print(\"Suscribing to Batt\")\r\n",
    "        s.send((\"device_subscribe \" + 'bat' + \" ON\\r\\n\").encode())\r\n",
    "        response = s.recv(bufferSize)\r\n",
    "        print(response.decode(\"utf-8\"))\r\n",
    "    if tag:\r\n",
    "        print(\"Suscribing to Tag\")\r\n",
    "        s.send((\"device_subscribe \" + 'tag' + \" ON\\r\\n\").encode())\r\n",
    "        response = s.recv(bufferSize)\r\n",
    "        print(response.decode(\"utf-8\"))\r\n",
    "\r\n",
    "    print(\"Resuming data receiving\")\r\n",
    "    s.send(\"pause OFF\\r\\n\".encode())\r\n",
    "    response = s.recv(bufferSize)\r\n",
    "    print(response.decode(\"utf-8\"))\r\n",
    "suscribe_to_data()\r\n",
    "\r\n",
    "time.sleep(1)\r\n",
    "\r\n",
    "def reconnect():\r\n",
    "    print(\"Reconnecting...\")\r\n",
    "    connect()\r\n",
    "    suscribe_to_data()\r\n",
    "    #stream()\r\n",
    "\r\n",
    "def disconnect():\r\n",
    "    s.send(\"device_disconnect\\r\\n\".encode())\r\n",
    "\r\n",
    "\r\n",
    "\"\"\" response = s.recv(bufferSize).decode(\"utf-8\")\r\n",
    "    #print(response)\r\n",
    "    if \"connection lost to device\" in response:\r\n",
    "        print(response.decode(\"utf-8\"))\r\n",
    "        reconnect() \"\"\"\r\n",
    "\r\n",
    "\r\n",
    "\r\n",
    "import paho.mqtt.client as mqtt\r\n",
    "import time\r\n",
    "\r\n",
    "\r\n",
    "messages = str()\r\n",
    "temp_timestamp = []\r\n",
    "temp_data = []\r\n",
    "\r\n",
    "# The callback for when a PUBLISH message is received from the server.\r\n",
    "def on_message(client, userdata, message):\r\n",
    "    global messages\r\n",
    "    global temp_timestamp\r\n",
    "    global temp_timestamp\r\n",
    "    print(\"message received \" ,str(message.payload.decode(\"utf-8\")))\r\n",
    "    print(\"message topic=\",message.topic)\r\n",
    "    print(\"message qos=\",message.qos)\r\n",
    "    print(\"message retain flag=\",message.retain)\r\n",
    "    #messages.append(message.payload.decode(\"utf-8\"))\r\n",
    "    new_message = str(message.payload.decode(\"utf-8\"))\r\n",
    "    messages += new_message\r\n",
    "    samples = new_message.split(\"\\r\\n\")\r\n",
    "    for i in range(len(samples)-1):\r\n",
    "        stream_type = samples[i].split()[0]\r\n",
    "        if stream_type == \"E4_Temperature\":\r\n",
    "            temp_new_timestamp = float(samples[i].split()[1].replace(',','.'))\r\n",
    "            temp_new_data = float(samples[i].split()[2].replace(',','.'))\r\n",
    "            temp_timestamp.append(temp_new_timestamp)\r\n",
    "            temp_data.append(temp_new_data)\r\n",
    "    \r\n",
    "\r\n",
    "client_id = \"E4\"     #\"<your unique client identifier>\"\r\n",
    "broker_address = \"test.mosquitto.org\"\r\n",
    "print(\"creating new instance\")\r\n",
    "\r\n",
    "client = mqtt.Client(client_id) #create new instance\r\n",
    "client.on_message = on_message  #attach function to callback\r\n",
    "print(\"connecting to broker\")\r\n",
    "client.connect(broker_address)  #connect to broker\r\n",
    "print(\"creating new instance\")\r\n",
    "\r\n",
    "client.loop_start() #start the loop\r\n",
    "\r\n",
    "print(\"Subscribing to topic\",\"E4_TB\")\r\n",
    "client.subscribe(\"E4_TB\")\r\n",
    "print(\"Publishing message to topic\",\"E4_TB\")\r\n",
    "while True:\r\n",
    "    response = s.recv(bufferSize).decode(\"utf-8\")\r\n",
    "    client.publish(\"E4_TB\", response)\r\n",
    "    #time.sleep(40) # wait\r\n",
    "\r\n",
    "\r\n",
    "client.loop_stop() #stop the loop\r\n",
    "disconnect()\r\n"
   ],
   "outputs": [
    {
     "output_type": "stream",
     "name": "stdout",
     "text": [
      "Connecting to server\n",
      "Connected to server\n",
      "\n",
      "Devices available:\n",
      "R device_list 1 | CDCB11 Empatica_E4 \n",
      "\n",
      "Connecting to device\n",
      "R device_connect OK\n",
      "\n",
      "Pausing data receiving\n",
      "R pause ON\n",
      "\n",
      "Suscribing to Temp\n",
      "R device_subscribe tmp OK\n",
      "\n",
      "Resuming data receiving\n",
      "R pause OFF\n",
      "\n",
      "creating new instance\n",
      "connecting to broker\n",
      "creating new instance\n",
      "Subscribing to topic E4_TB\n",
      "Publishing message to topic E4_TB\n",
      "message received  E4_Temperature 1626464053.73998 29.21\n",
      "E4_Temperature 1626464053.98999 29.21\n",
      "\n",
      "message topic= E4_TB\n",
      "message qos= 0\n",
      "message retain flag= 0\n",
      "message received  E4_Temperature 1626464054.24 29.21\n",
      "E4_Temperature 1626464054.49001 29.21\n",
      "E4_Temperature 1626464054.74002 29.19\n",
      "E4_Temperature 1626464054.99003 29.19\n",
      "\n",
      "message topic= E4_TB\n",
      "message qos= 0\n",
      "message retain flag= 0\n",
      "message received  E4_Temperature 1626464055.24005 29.19\n",
      "E4_Temperature 1626464055.49006 29.19\n",
      "\n",
      "message topic= E4_TB\n",
      "message qos= 0\n",
      "message retain flag= 0\n",
      "message received  E4_Temperature 1626464055.74007 29.21\n",
      "\n",
      "message topic= E4_TB\n",
      "message qos= 0\n",
      "message retain flag= 0\n",
      "message received  E4_Temperature 1626464055.99008 29.21\n",
      "E4_Temperature 1626464056.24009 29.21\n",
      "E4_Temperature 1626464056.4901 29.21\n",
      "\n",
      "message topic= E4_TB\n",
      "message qos= 0\n",
      "message retain flag= 0\n",
      "message received  E4_Temperature 1626464056.74012 29.21\n",
      "\n",
      "message topic= E4_TB\n",
      "message qos= 0\n",
      "message retain flag= 0\n",
      "message received  E4_Temperature 1626464056.99013 29.21\n",
      "E4_Temperature 1626464057.24014 29.21\n",
      "E4_Temperature 1626464057.49015 29.21\n",
      "\n",
      "message topic= E4_TB\n",
      "message qos= 0\n",
      "message retain flag= 0\n",
      "message received  E4_Temperature 1626464057.74016 29.21\n",
      "\n",
      "message topic= E4_TB\n",
      "message qos= 0\n",
      "message retain flag= 0\n",
      "message received  E4_Temperature 1626464057.99017 29.21\n",
      "E4_Temperature 1626464058.24018 29.21\n",
      "E4_Temperature 1626464058.4902 29.21\n",
      "E4_Temperature 1626464058.74021 29.19\n",
      "E4_Temperature 1626464058.99022 29.19\n",
      "E4_Temperature 1626464059.24023 29.19\n",
      "E4_Temperature 1626464059.49024 29.19\n",
      "\n",
      "message topic= E4_TB\n",
      "message qos= 0\n",
      "message retain flag= 0\n",
      "message received  E4_Temperature 1626464059.74025 29.21\n",
      "E4_Temperature 1626464059.99027 29.21\n",
      "\n",
      "message topic= E4_TB\n",
      "message qos= 0\n",
      "message retain flag= 0\n",
      "message received  E4_Temperature 1626464060.24028 29.21\n",
      "E4_Temperature 1626464060.49029 29.21\n",
      "E4_Temperature 1626464060.7403 29.21\n",
      "E4_Temperature 1626464060.99031 29.21\n",
      "E4_Temperature 1626464061.24032 29.21\n",
      "\n",
      "message topic= E4_TB\n",
      "message qos= 0\n",
      "message retain flag= 0\n",
      "message received  E4_Temperature 1626464061.49033 29.21\n",
      "\n",
      "message topic= E4_TB\n",
      "message qos= 0\n",
      "message retain flag= 0\n",
      "message received  E4_Temperature 1626464061.74035 29.17\n",
      "\n",
      "message topic= E4_TB\n",
      "message qos= 0\n",
      "message retain flag= 0\n",
      "message received  E4_Temperature 1626464061.99036 29.17\n",
      "E4_Temperature 1626464062.24037 29.17\n",
      "E4_Temperature 1626464062.49038 29.17\n",
      "\n",
      "message topic= E4_TB\n",
      "message qos= 0\n",
      "message retain flag= 0\n",
      "message received  E4_Temperature 1626464062.74039 29.21\n",
      "E4_Temperature 1626464062.9904 29.21\n",
      "E4_Temperature 1626464063.24042 29.21\n",
      "E4_Temperature 1626464063.49043 29.21\n",
      "\n",
      "message topic= E4_TB\n",
      "message qos= 0\n",
      "message retain flag= 0\n"
     ]
    },
    {
     "output_type": "error",
     "ename": "KeyboardInterrupt",
     "evalue": "",
     "traceback": [
      "\u001b[1;31m---------------------------------------------------------------------------\u001b[0m",
      "\u001b[1;31mKeyboardInterrupt\u001b[0m                         Traceback (most recent call last)",
      "\u001b[1;32m<ipython-input-1-801058a129dd>\u001b[0m in \u001b[0;36m<module>\u001b[1;34m\u001b[0m\n\u001b[0;32m    164\u001b[0m \u001b[0mprint\u001b[0m\u001b[1;33m(\u001b[0m\u001b[1;34m\"Publishing message to topic\"\u001b[0m\u001b[1;33m,\u001b[0m\u001b[1;34m\"E4_TB\"\u001b[0m\u001b[1;33m)\u001b[0m\u001b[1;33m\u001b[0m\u001b[1;33m\u001b[0m\u001b[0m\n\u001b[0;32m    165\u001b[0m \u001b[1;32mwhile\u001b[0m \u001b[1;32mTrue\u001b[0m\u001b[1;33m:\u001b[0m\u001b[1;33m\u001b[0m\u001b[1;33m\u001b[0m\u001b[0m\n\u001b[1;32m--> 166\u001b[1;33m     \u001b[0mresponse\u001b[0m \u001b[1;33m=\u001b[0m \u001b[0ms\u001b[0m\u001b[1;33m.\u001b[0m\u001b[0mrecv\u001b[0m\u001b[1;33m(\u001b[0m\u001b[0mbufferSize\u001b[0m\u001b[1;33m)\u001b[0m\u001b[1;33m.\u001b[0m\u001b[0mdecode\u001b[0m\u001b[1;33m(\u001b[0m\u001b[1;34m\"utf-8\"\u001b[0m\u001b[1;33m)\u001b[0m\u001b[1;33m\u001b[0m\u001b[1;33m\u001b[0m\u001b[0m\n\u001b[0m\u001b[0;32m    167\u001b[0m     \u001b[0mclient\u001b[0m\u001b[1;33m.\u001b[0m\u001b[0mpublish\u001b[0m\u001b[1;33m(\u001b[0m\u001b[1;34m\"E4_TB\"\u001b[0m\u001b[1;33m,\u001b[0m \u001b[0mresponse\u001b[0m\u001b[1;33m)\u001b[0m\u001b[1;33m\u001b[0m\u001b[1;33m\u001b[0m\u001b[0m\n\u001b[0;32m    168\u001b[0m     \u001b[1;31m#time.sleep(40) # wait\u001b[0m\u001b[1;33m\u001b[0m\u001b[1;33m\u001b[0m\u001b[1;33m\u001b[0m\u001b[0m\n",
      "\u001b[1;31mKeyboardInterrupt\u001b[0m: "
     ]
    }
   ],
   "metadata": {}
  },
  {
   "cell_type": "code",
   "execution_count": 6,
   "source": [
    "disconnect()"
   ],
   "outputs": [],
   "metadata": {}
  },
  {
   "cell_type": "code",
   "execution_count": 6,
   "source": [
    "import matplotlib.pyplot as plt\r\n",
    "\r\n",
    "plt.plot(temp_timestamp, temp_data)"
   ],
   "outputs": [
    {
     "output_type": "execute_result",
     "data": {
      "text/plain": [
       "[<matplotlib.lines.Line2D at 0x1d4e43bc0c8>]"
      ]
     },
     "metadata": {},
     "execution_count": 6
    }
   ],
   "metadata": {}
  },
  {
   "cell_type": "code",
   "execution_count": 3,
   "source": [
    "messages"
   ],
   "outputs": [
    {
     "output_type": "execute_result",
     "data": {
      "text/plain": [
       "'E4_Temperature 1626464053.73998 29.21\\r\\nE4_Temperature 1626464053.98999 29.21\\r\\nE4_Temperature 1626464054.24 29.21\\r\\nE4_Temperature 1626464054.49001 29.21\\r\\nE4_Temperature 1626464054.74002 29.19\\r\\nE4_Temperature 1626464054.99003 29.19\\r\\nE4_Temperature 1626464055.24005 29.19\\r\\nE4_Temperature 1626464055.49006 29.19\\r\\nE4_Temperature 1626464055.74007 29.21\\r\\nE4_Temperature 1626464055.99008 29.21\\r\\nE4_Temperature 1626464056.24009 29.21\\r\\nE4_Temperature 1626464056.4901 29.21\\r\\nE4_Temperature 1626464056.74012 29.21\\r\\nE4_Temperature 1626464056.99013 29.21\\r\\nE4_Temperature 1626464057.24014 29.21\\r\\nE4_Temperature 1626464057.49015 29.21\\r\\nE4_Temperature 1626464057.74016 29.21\\r\\nE4_Temperature 1626464057.99017 29.21\\r\\nE4_Temperature 1626464058.24018 29.21\\r\\nE4_Temperature 1626464058.4902 29.21\\r\\nE4_Temperature 1626464058.74021 29.19\\r\\nE4_Temperature 1626464058.99022 29.19\\r\\nE4_Temperature 1626464059.24023 29.19\\r\\nE4_Temperature 1626464059.49024 29.19\\r\\nE4_Temperature 1626464059.74025 29.21\\r\\nE4_Temperature 1626464059.99027 29.21\\r\\nE4_Temperature 1626464060.24028 29.21\\r\\nE4_Temperature 1626464060.49029 29.21\\r\\nE4_Temperature 1626464060.7403 29.21\\r\\nE4_Temperature 1626464060.99031 29.21\\r\\nE4_Temperature 1626464061.24032 29.21\\r\\nE4_Temperature 1626464061.49033 29.21\\r\\nE4_Temperature 1626464061.74035 29.17\\r\\nE4_Temperature 1626464061.99036 29.17\\r\\nE4_Temperature 1626464062.24037 29.17\\r\\nE4_Temperature 1626464062.49038 29.17\\r\\nE4_Temperature 1626464062.74039 29.21\\r\\nE4_Temperature 1626464062.9904 29.21\\r\\nE4_Temperature 1626464063.24042 29.21\\r\\nE4_Temperature 1626464063.49043 29.21\\r\\n'"
      ]
     },
     "metadata": {},
     "execution_count": 3
    }
   ],
   "metadata": {}
  },
  {
   "cell_type": "code",
   "execution_count": 5,
   "source": [
    "samples = messages.split('\\r\\n')\r\n",
    "print(samples)"
   ],
   "outputs": [
    {
     "output_type": "stream",
     "name": "stdout",
     "text": [
      "['E4_Temperature 1626463595.71877 29.29', 'E4_Temperature 1626463595.96878 29.29', 'E4_Temperature 1626463596.21879 29.29', 'E4_Temperature 1626463596.46881 29.29', 'E4_Temperature 1626463596.71882 29.27', 'E4_Temperature 1626463596.96883 29.27', 'E4_Temperature 1626463597.21884 29.27', 'E4_Temperature 1626463597.46885 29.27', 'E4_Temperature 1626463597.71886 29.29', 'E4_Temperature 1626463597.96888 29.29', 'E4_Temperature 1626463598.21889 29.29', 'E4_Temperature 1626463598.4689 29.29', 'E4_Temperature 1626463598.71891 29.27', 'E4_Temperature 1626463598.96892 29.27', 'E4_Temperature 1626463599.21893 29.27', 'E4_Temperature 1626463599.46894 29.27', 'E4_Temperature 1626463599.71896 29.27', 'E4_Temperature 1626463599.96897 29.27', 'E4_Temperature 1626463600.21898 29.27', 'E4_Temperature 1626463600.46899 29.27', 'E4_Temperature 1626463600.719 29.27', 'E4_Temperature 1626463600.96901 29.27', 'E4_Temperature 1626463601.21903 29.27', 'E4_Temperature 1626463601.46904 29.27', 'E4_Temperature 1626463601.71905 29.29', 'E4_Temperature 1626463601.96906 29.29', 'E4_Temperature 1626463602.21907 29.29', 'E4_Temperature 1626463602.46908 29.29', 'E4_Temperature 1626463602.7191 29.29', 'E4_Temperature 1626463602.96911 29.29', 'E4_Temperature 1626463603.21912 29.29', 'E4_Temperature 1626463603.46913 29.29', 'E4_Temperature 1626463603.71914 29.29', 'E4_Temperature 1626463603.96915 29.29', 'E4_Temperature 1626463604.21916 29.29', 'E4_Temperature 1626463604.46918 29.29', 'E4_Temperature 1626463604.71919 29.27', 'E4_Temperature 1626463604.9692 29.27', 'E4_Temperature 1626463605.21921 29.27', 'E4_Temperature 1626463605.46922 29.27', 'E4_Temperature 1626463605.71923 29.29', 'E4_Temperature 1626463605.96925 29.29', 'E4_Temperature 1626463606.21926 29.29', 'E4_Temperature 1626463606.46927 29.29', 'E4_Temperature 1626463606.71928 29.29', 'E4_Temperature 1626463606.96929 29.29', 'E4_Temperature 1626463607.2193 29.29', 'E4_Temperature 1626463607.46932 29.29', 'E4_Temperature 1626463607.71933 29.31', 'E4_Temperature 1626463607.96934 29.31', 'E4_Temperature 1626463608.21935 29.31', 'E4_Temperature 1626463608.46936 29.31', 'E4_Temperature 1626463608.71937 29.29', 'E4_Temperature 1626463608.96938 29.29', 'E4_Temperature 1626463609.2194 29.29', 'E4_Temperature 1626463609.46941 29.29', 'E4_Temperature 1626463609.71942 29.27', 'E4_Temperature 1626463609.96943 29.27', 'E4_Temperature 1626463610.21944 29.27', 'E4_Temperature 1626463610.46945 29.27', 'E4_Temperature 1626463610.71947 29.29', 'E4_Temperature 1626463610.96948 29.29', 'E4_Temperature 1626463611.21949 29.29', 'E4_Temperature 1626463611.4695 29.29', '']\n"
     ]
    }
   ],
   "metadata": {}
  },
  {
   "cell_type": "code",
   "execution_count": 6,
   "source": [
    "samples[1]"
   ],
   "outputs": [
    {
     "output_type": "execute_result",
     "data": {
      "text/plain": [
       "'E4_Temperature 1626463595.96878 29.29'"
      ]
     },
     "metadata": {},
     "execution_count": 6
    }
   ],
   "metadata": {}
  },
  {
   "cell_type": "code",
   "execution_count": null,
   "source": [
    "for i in range(len(samples)-1):\r\n",
    "    stream_type = samples[i].split()[0]\r\n",
    "    print(stream_type)"
   ],
   "outputs": [],
   "metadata": {}
  },
  {
   "cell_type": "code",
   "execution_count": 8,
   "source": [
    "stream_type"
   ],
   "outputs": [
    {
     "output_type": "execute_result",
     "data": {
      "text/plain": [
       "'E4_Temperature'"
      ]
     },
     "metadata": {},
     "execution_count": 8
    }
   ],
   "metadata": {}
  },
  {
   "cell_type": "code",
   "execution_count": 16,
   "source": [
    "response"
   ],
   "outputs": [
    {
     "output_type": "execute_result",
     "data": {
      "text/plain": [
       "'E4_Temperature 1626463088.1166 28.83\\r\\nE4_Temperature 1626463088.36661 28.83\\r\\n'"
      ]
     },
     "metadata": {},
     "execution_count": 16
    }
   ],
   "metadata": {}
  },
  {
   "cell_type": "code",
   "execution_count": 7,
   "source": [
    "messages"
   ],
   "outputs": [
    {
     "output_type": "execute_result",
     "data": {
      "text/plain": [
       "['E4_Temperature 1626461078.44087 29.61\\r\\nE4_Temperature 1626461078.69088 29.61\\r\\n',\n",
       " 'E4_Temperature 1626461078.94089 29.61\\r\\nE4_Temperature 1626461079.1909 29.61\\r\\nE4_Temperature 1626461079.44092 29.61\\r\\nE4_Temperature 1626461079.69093 29.61\\r\\nE4_Temperature 1626461079.94094 29.61\\r\\nE4_Temperature 1626461080.19095 29.61\\r\\n']"
      ]
     },
     "metadata": {},
     "execution_count": 7
    }
   ],
   "metadata": {}
  },
  {
   "cell_type": "code",
   "execution_count": 16,
   "source": [
    "sample = messages[0].split(\"\\n\")\r\n",
    "print(sample)"
   ],
   "outputs": [
    {
     "output_type": "stream",
     "name": "stdout",
     "text": [
      "['E4_Temperature 1626461078.44087 29.61\\r', 'E4_Temperature 1626461078.69088 29.61\\r', '']\n"
     ]
    }
   ],
   "metadata": {}
  },
  {
   "cell_type": "code",
   "execution_count": 18,
   "source": [
    "for i in range(len(sample)-1):\r\n",
    "    print(sample[i])"
   ],
   "outputs": [
    {
     "output_type": "stream",
     "name": "stdout",
     "text": [
      "E4_Temperature 1626461078.44087 29.61\n",
      "E4_Temperature 1626461078.69088 29.61\n"
     ]
    }
   ],
   "metadata": {}
  },
  {
   "cell_type": "code",
   "execution_count": 20,
   "source": [
    "sample[1]"
   ],
   "outputs": [
    {
     "output_type": "execute_result",
     "data": {
      "text/plain": [
       "'E4_Temperature 1626461078.69088 29.61\\r'"
      ]
     },
     "metadata": {},
     "execution_count": 20
    }
   ],
   "metadata": {}
  },
  {
   "cell_type": "code",
   "execution_count": 15,
   "source": [
    "## Publishing to MQTT + subscribing and printing the message and metadata from live E4 data\r\n",
    "\r\n",
    "\r\n",
    "import socket\r\n",
    "import time\r\n",
    "import pylsl\r\n",
    "import datetime as dt\r\n",
    "import matplotlib.pyplot as plt\r\n",
    "import matplotlib.animation as animation\r\n",
    "from matplotlib.animation import FuncAnimation\r\n",
    "import threading\r\n",
    "%matplotlib qt\r\n",
    "#%matplotlib inline\r\n",
    "\r\n",
    "# SELECT DATA TO STREAM\r\n",
    "acc = False      # 3-axis acceleration\r\n",
    "bvp = False      # Blood Volume Pulse\r\n",
    "gsr = False      # Galvanic Skin Response (Electrodermal Activity)\r\n",
    "tmp = True       # Temperature\r\n",
    "ibi = False      # Interbeat Interval and Heartbeat\r\n",
    "bat = False      # Device Battery\r\n",
    "tag = False      # Tag taken from the device (by pressing the button)\r\n",
    "\r\n",
    "serverAddress = '127.0.0.1'\r\n",
    "serverPort = 28000\r\n",
    "bufferSize = 4096\r\n",
    "\r\n",
    "deviceID = 'CDCB11' # 'A03003'\r\n",
    "\r\n",
    "def connect():\r\n",
    "    global s\r\n",
    "    s = socket.socket(socket.AF_INET, socket.SOCK_STREAM)\r\n",
    "    s.settimeout(3)\r\n",
    "\r\n",
    "    print(\"Connecting to server\")\r\n",
    "    s.connect((serverAddress, serverPort))\r\n",
    "    print(\"Connected to server\\n\")\r\n",
    "\r\n",
    "    print(\"Devices available:\")\r\n",
    "    s.send(\"device_list\\r\\n\".encode())\r\n",
    "    response = s.recv(bufferSize)\r\n",
    "    print(response.decode(\"utf-8\"))\r\n",
    "\r\n",
    "    print(\"Connecting to device\")\r\n",
    "    s.send((\"device_connect \" + deviceID + \"\\r\\n\").encode())\r\n",
    "    response = s.recv(bufferSize)\r\n",
    "    print(response.decode(\"utf-8\"))\r\n",
    "\r\n",
    "    print(\"Pausing data receiving\")\r\n",
    "    s.send(\"pause ON\\r\\n\".encode())\r\n",
    "    response = s.recv(bufferSize)\r\n",
    "    print(response.decode(\"utf-8\"))\r\n",
    "connect()\r\n",
    "\r\n",
    "time.sleep(1)\r\n",
    "\r\n",
    "def suscribe_to_data():\r\n",
    "    if acc:\r\n",
    "        print(\"Suscribing to ACC\")\r\n",
    "        s.send((\"device_subscribe \" + 'acc' + \" ON\\r\\n\").encode())\r\n",
    "        response = s.recv(bufferSize)\r\n",
    "        print(response.decode(\"utf-8\"))\r\n",
    "    if bvp:\r\n",
    "        print(\"Suscribing to BVP\")\r\n",
    "        s.send((\"device_subscribe \" + 'bvp' + \" ON\\r\\n\").encode())\r\n",
    "        response = s.recv(bufferSize)\r\n",
    "        print(response.decode(\"utf-8\"))\r\n",
    "    if gsr:\r\n",
    "        print(\"Suscribing to GSR\")\r\n",
    "        s.send((\"device_subscribe \" + 'gsr' + \" ON\\r\\n\").encode())\r\n",
    "        response = s.recv(bufferSize)\r\n",
    "        print(response.decode(\"utf-8\"))\r\n",
    "    if tmp:\r\n",
    "        print(\"Suscribing to Temp\")\r\n",
    "        s.send((\"device_subscribe \" + 'tmp' + \" ON\\r\\n\").encode())\r\n",
    "        response = s.recv(bufferSize)\r\n",
    "        print(response.decode(\"utf-8\"))\r\n",
    "    if ibi:\r\n",
    "        print(\"Suscribing to IBI\")\r\n",
    "        s.send((\"device_subscribe \" + 'ibi' + \" ON\\r\\n\").encode())\r\n",
    "        response = s.recv(bufferSize)\r\n",
    "        print(response.decode(\"utf-8\"))\r\n",
    "    if bat:\r\n",
    "        print(\"Suscribing to Batt\")\r\n",
    "        s.send((\"device_subscribe \" + 'bat' + \" ON\\r\\n\").encode())\r\n",
    "        response = s.recv(bufferSize)\r\n",
    "        print(response.decode(\"utf-8\"))\r\n",
    "    if tag:\r\n",
    "        print(\"Suscribing to Tag\")\r\n",
    "        s.send((\"device_subscribe \" + 'tag' + \" ON\\r\\n\").encode())\r\n",
    "        response = s.recv(bufferSize)\r\n",
    "        print(response.decode(\"utf-8\"))\r\n",
    "\r\n",
    "    print(\"Resuming data receiving\")\r\n",
    "    s.send(\"pause OFF\\r\\n\".encode())\r\n",
    "    response = s.recv(bufferSize)\r\n",
    "    print(response.decode(\"utf-8\"))\r\n",
    "suscribe_to_data()\r\n",
    "\r\n",
    "time.sleep(1)\r\n",
    "\r\n",
    "def reconnect():\r\n",
    "    print(\"Reconnecting...\")\r\n",
    "    connect()\r\n",
    "    suscribe_to_data()\r\n",
    "    #stream()\r\n",
    "\r\n",
    "def disconnect():\r\n",
    "    s.send(\"device_disconnect\\r\\n\".encode())\r\n",
    "\r\n",
    "\r\n",
    "\"\"\" response = s.recv(bufferSize).decode(\"utf-8\")\r\n",
    "    #print(response)\r\n",
    "    if \"connection lost to device\" in response:\r\n",
    "        print(response.decode(\"utf-8\"))\r\n",
    "        reconnect() \"\"\"\r\n",
    "\r\n",
    "\r\n",
    "\r\n",
    "import paho.mqtt.client as mqtt\r\n",
    "import time\r\n",
    "\r\n",
    "\"\"\" messages = []\r\n",
    "temp_timestamp = []\r\n",
    "temp_data = [] \"\"\"\r\n",
    "\r\n",
    "# The callback for when a PUBLISH message is received from the server.\r\n",
    "def on_message(client, userdata, message):\r\n",
    "    print(\"message received \" ,str(message.payload.decode(\"utf-8\")))\r\n",
    "    print(\"message topic=\",message.topic)\r\n",
    "    print(\"message qos=\",message.qos)\r\n",
    "    print(\"message retain flag=\",message.retain)\r\n",
    "    #messages.append(message.payload.decode(\"utf-8\"))\r\n",
    "    \"\"\" new_message = message.payload.decode(\"utf-8\")\r\n",
    "    samples = new_message.split(\"\\n\")\r\n",
    "    for i in range(len(samples)-1):\r\n",
    "        stream_type = samples[i].split()[0]\r\n",
    "        if stream_type == \"E4_Temperature\":\r\n",
    "            temp_new_timestamp = float(samples[i].split()[1].replace(',','.'))\r\n",
    "            temp_new_data = float(samples[i].split()[2].replace(',','.'))\r\n",
    "            temp_timestamp.append(temp_new_timestamp)\r\n",
    "            temp_data.append(temp_new_data) \"\"\"\r\n",
    "    \r\n",
    "\r\n",
    "publish_key = \"pub-c-defc7b94-6e9a-42fd-b25a-883c2e605a89\"  #\"<your publish key>\"\r\n",
    "subscribe_key = \"sub-c-5a7d9a20-e5a9-11eb-bc98-fa4b4b21bdc4\"    #\"<your subscribe key>\"\r\n",
    "client_id = \"E4_1\"     #\"<your unique client identifier>\"\r\n",
    "\r\n",
    "print(\"creating new instance\")\r\n",
    "\r\n",
    "client = mqtt.Client(client_id=publish_key + \"/\" + subscribe_key + \"/\" + client_id)\r\n",
    "client.on_message = on_message\r\n",
    "print(\"connecting to broker\")\r\n",
    "client.connect(\"mqtt.pndsn.com\", 1883, 60)\r\n",
    "\r\n",
    "client.loop_start() #start the loop\r\n",
    "\r\n",
    "print(\"Subscribing to topic\",\"E4\")\r\n",
    "client.subscribe(\"E4_TB\")\r\n",
    "print(\"Publishing message to topic\",\"E4\")\r\n",
    "while True:\r\n",
    "    response = s.recv(bufferSize).decode(\"utf-8\")\r\n",
    "    client.publish(\"E4_TB\", response)\r\n",
    "    #time.sleep(40) # wait\r\n",
    "\r\n",
    "\r\n",
    "client.loop_stop() #stop the loop\r\n",
    "disconnect()\r\n"
   ],
   "outputs": [
    {
     "output_type": "stream",
     "name": "stdout",
     "text": [
      "Connecting to server\n",
      "Connected to server\n",
      "\n",
      "Devices available:\n",
      "R device_list 1 | CDCB11 Empatica_E4 \n",
      "\n",
      "Connecting to device\n",
      "R device_connect OK\n",
      "\n",
      "Pausing data receiving\n",
      "R pause ON\n",
      "\n",
      "Suscribing to Temp\n",
      "R device_subscribe tmp OK\n",
      "\n",
      "Resuming data receiving\n",
      "R pause OFF\n",
      "\n",
      "creating new instance\n",
      "connecting to broker\n",
      "Subscribing to topic E4\n",
      "Publishing message to topic E4\n"
     ]
    },
    {
     "output_type": "error",
     "ename": "KeyboardInterrupt",
     "evalue": "",
     "traceback": [
      "\u001b[1;31m---------------------------------------------------------------------------\u001b[0m",
      "\u001b[1;31mKeyboardInterrupt\u001b[0m                         Traceback (most recent call last)",
      "\u001b[1;32m<ipython-input-15-d08f1a991f85>\u001b[0m in \u001b[0;36m<module>\u001b[1;34m\u001b[0m\n\u001b[0;32m    160\u001b[0m \u001b[0mprint\u001b[0m\u001b[1;33m(\u001b[0m\u001b[1;34m\"Publishing message to topic\"\u001b[0m\u001b[1;33m,\u001b[0m\u001b[1;34m\"E4\"\u001b[0m\u001b[1;33m)\u001b[0m\u001b[1;33m\u001b[0m\u001b[1;33m\u001b[0m\u001b[0m\n\u001b[0;32m    161\u001b[0m \u001b[1;32mwhile\u001b[0m \u001b[1;32mTrue\u001b[0m\u001b[1;33m:\u001b[0m\u001b[1;33m\u001b[0m\u001b[1;33m\u001b[0m\u001b[0m\n\u001b[1;32m--> 162\u001b[1;33m     \u001b[0mresponse\u001b[0m \u001b[1;33m=\u001b[0m \u001b[0ms\u001b[0m\u001b[1;33m.\u001b[0m\u001b[0mrecv\u001b[0m\u001b[1;33m(\u001b[0m\u001b[0mbufferSize\u001b[0m\u001b[1;33m)\u001b[0m\u001b[1;33m.\u001b[0m\u001b[0mdecode\u001b[0m\u001b[1;33m(\u001b[0m\u001b[1;34m\"utf-8\"\u001b[0m\u001b[1;33m)\u001b[0m\u001b[1;33m\u001b[0m\u001b[1;33m\u001b[0m\u001b[0m\n\u001b[0m\u001b[0;32m    163\u001b[0m     \u001b[0mclient\u001b[0m\u001b[1;33m.\u001b[0m\u001b[0mpublish\u001b[0m\u001b[1;33m(\u001b[0m\u001b[1;34m\"E4_TB\"\u001b[0m\u001b[1;33m,\u001b[0m \u001b[0mresponse\u001b[0m\u001b[1;33m)\u001b[0m\u001b[1;33m\u001b[0m\u001b[1;33m\u001b[0m\u001b[0m\n\u001b[0;32m    164\u001b[0m     \u001b[1;31m#time.sleep(40) # wait\u001b[0m\u001b[1;33m\u001b[0m\u001b[1;33m\u001b[0m\u001b[1;33m\u001b[0m\u001b[0m\n",
      "\u001b[1;31mKeyboardInterrupt\u001b[0m: "
     ]
    }
   ],
   "metadata": {}
  },
  {
   "cell_type": "code",
   "execution_count": 9,
   "source": [
    "disconnect()"
   ],
   "outputs": [],
   "metadata": {}
  },
  {
   "cell_type": "code",
   "execution_count": 10,
   "source": [
    "response"
   ],
   "outputs": [
    {
     "output_type": "execute_result",
     "data": {
      "text/plain": [
       "'E4_Temperature 1626459586.12178 28.05\\r\\n'"
      ]
     },
     "metadata": {},
     "execution_count": 10
    }
   ],
   "metadata": {}
  },
  {
   "cell_type": "code",
   "execution_count": 7,
   "source": [
    "response"
   ],
   "outputs": [
    {
     "output_type": "execute_result",
     "data": {
      "text/plain": [
       "'E4_Temperature 1626459424.11428 26.13\\r\\n'"
      ]
     },
     "metadata": {},
     "execution_count": 7
    }
   ],
   "metadata": {}
  },
  {
   "cell_type": "code",
   "execution_count": 50,
   "source": [
    "temp_data"
   ],
   "outputs": [
    {
     "output_type": "execute_result",
     "data": {
      "text/plain": [
       "[31.61,\n",
       " 31.61,\n",
       " 31.61,\n",
       " 31.61,\n",
       " 31.61,\n",
       " 31.61,\n",
       " 31.61,\n",
       " 31.61,\n",
       " 31.61,\n",
       " 31.61,\n",
       " 31.61,\n",
       " 31.61,\n",
       " 31.61,\n",
       " 31.61,\n",
       " 31.61,\n",
       " 31.61,\n",
       " 31.61,\n",
       " 31.61,\n",
       " 31.61,\n",
       " 31.61,\n",
       " 31.59,\n",
       " 31.59,\n",
       " 31.59,\n",
       " 31.59]"
      ]
     },
     "metadata": {},
     "execution_count": 50
    }
   ],
   "metadata": {}
  },
  {
   "cell_type": "code",
   "execution_count": 51,
   "source": [
    "temp_timestamp"
   ],
   "outputs": [
    {
     "output_type": "execute_result",
     "data": {
      "text/plain": [
       "[1626394667.00535,\n",
       " 1626394667.25536,\n",
       " 1626394667.50538,\n",
       " 1626394667.75539,\n",
       " 1626394668.0054,\n",
       " 1626394668.25541,\n",
       " 1626394668.50542,\n",
       " 1626394668.75543,\n",
       " 1626394669.00545,\n",
       " 1626394669.25546,\n",
       " 1626394669.50547,\n",
       " 1626394669.75548,\n",
       " 1626394670.00549,\n",
       " 1626394670.2555,\n",
       " 1626394670.50551,\n",
       " 1626394670.75553,\n",
       " 1626394671.00554,\n",
       " 1626394671.25555,\n",
       " 1626394671.50556,\n",
       " 1626394671.75557,\n",
       " 1626394672.00558,\n",
       " 1626394672.2556,\n",
       " 1626394672.50561,\n",
       " 1626394672.75562]"
      ]
     },
     "metadata": {},
     "execution_count": 51
    }
   ],
   "metadata": {}
  },
  {
   "cell_type": "code",
   "execution_count": 33,
   "source": [
    "messages"
   ],
   "outputs": [
    {
     "output_type": "execute_result",
     "data": {
      "text/plain": [
       "['E4_Temperature 1626393934.97146 31.69\\r\\nE4_Temperature 1626393935.22147 31.69\\r\\n',\n",
       " 'E4_Temperature 1626393935.47149 31.69\\r\\nE4_Temperature 1626393935.7215 31.69\\r\\nE4_Temperature 1626393935.97151 31.69\\r\\nE4_Temperature 1626393936.22152 31.69\\r\\nE4_Temperature 1626393936.47153 31.69\\r\\nE4_Temperature 1626393936.72154 31.69\\r\\n',\n",
       " 'E4_Temperature 1626393936.97155 31.69\\r\\n',\n",
       " 'E4_Temperature 1626393937.22157 31.69\\r\\nE4_Temperature 1626393937.47158 31.69\\r\\nE4_Temperature 1626393937.72159 31.69\\r\\n',\n",
       " 'E4_Temperature 1626393937.9716 31.71\\r\\nE4_Temperature 1626393938.22161 31.71\\r\\n',\n",
       " 'E4_Temperature 1626393938.47162 31.71\\r\\nE4_Temperature 1626393938.72164 31.71\\r\\n',\n",
       " 'E4_Temperature 1626393938.97165 31.69\\r\\nE4_Temperature 1626393939.22166 31.69\\r\\n',\n",
       " 'E4_Temperature 1626393939.47167 31.69\\r\\nE4_Temperature 1626393939.72168 31.69\\r\\nE4_Temperature 1626393939.97169 31.69\\r\\nE4_Temperature 1626393940.2217 31.69\\r\\nE4_Temperature 1626393940.47172 31.69\\r\\nE4_Temperature 1626393940.72173 31.69\\r\\n',\n",
       " 'E4_Temperature 1626393940.97174 31.67\\r\\n',\n",
       " 'E4_Temperature 1626393941.22175 31.67\\r\\nE4_Temperature 1626393941.47176 31.67\\r\\nE4_Temperature 1626393941.72177 31.67\\r\\nE4_Temperature 1626393941.97179 31.69\\r\\n',\n",
       " 'E4_Temperature 1626393942.2218 31.69\\r\\nE4_Temperature 1626393942.47181 31.69\\r\\n',\n",
       " 'E4_Temperature 1626393942.72182 31.69\\r\\n']"
      ]
     },
     "metadata": {},
     "execution_count": 33
    }
   ],
   "metadata": {}
  },
  {
   "cell_type": "code",
   "execution_count": 34,
   "source": [
    "for i in messages:\r\n",
    "    print (i)"
   ],
   "outputs": [
    {
     "output_type": "stream",
     "name": "stdout",
     "text": [
      "E4_Temperature 1626393934.97146 31.69\n",
      "E4_Temperature 1626393935.22147 31.69\n",
      "\n",
      "E4_Temperature 1626393935.47149 31.69\n",
      "E4_Temperature 1626393935.7215 31.69\n",
      "E4_Temperature 1626393935.97151 31.69\n",
      "E4_Temperature 1626393936.22152 31.69\n",
      "E4_Temperature 1626393936.47153 31.69\n",
      "E4_Temperature 1626393936.72154 31.69\n",
      "\n",
      "E4_Temperature 1626393936.97155 31.69\n",
      "\n",
      "E4_Temperature 1626393937.22157 31.69\n",
      "E4_Temperature 1626393937.47158 31.69\n",
      "E4_Temperature 1626393937.72159 31.69\n",
      "\n",
      "E4_Temperature 1626393937.9716 31.71\n",
      "E4_Temperature 1626393938.22161 31.71\n",
      "\n",
      "E4_Temperature 1626393938.47162 31.71\n",
      "E4_Temperature 1626393938.72164 31.71\n",
      "\n",
      "E4_Temperature 1626393938.97165 31.69\n",
      "E4_Temperature 1626393939.22166 31.69\n",
      "\n",
      "E4_Temperature 1626393939.47167 31.69\n",
      "E4_Temperature 1626393939.72168 31.69\n",
      "E4_Temperature 1626393939.97169 31.69\n",
      "E4_Temperature 1626393940.2217 31.69\n",
      "E4_Temperature 1626393940.47172 31.69\n",
      "E4_Temperature 1626393940.72173 31.69\n",
      "\n",
      "E4_Temperature 1626393940.97174 31.67\n",
      "\n",
      "E4_Temperature 1626393941.22175 31.67\n",
      "E4_Temperature 1626393941.47176 31.67\n",
      "E4_Temperature 1626393941.72177 31.67\n",
      "E4_Temperature 1626393941.97179 31.69\n",
      "\n",
      "E4_Temperature 1626393942.2218 31.69\n",
      "E4_Temperature 1626393942.47181 31.69\n",
      "\n",
      "E4_Temperature 1626393942.72182 31.69\n",
      "\n"
     ]
    }
   ],
   "metadata": {}
  },
  {
   "cell_type": "code",
   "execution_count": 16,
   "source": [
    "samples_test = messages.split(\"\\n\")"
   ],
   "outputs": [
    {
     "output_type": "error",
     "ename": "AttributeError",
     "evalue": "'list' object has no attribute 'split'",
     "traceback": [
      "\u001b[1;31m---------------------------------------------------------------------------\u001b[0m",
      "\u001b[1;31mAttributeError\u001b[0m                            Traceback (most recent call last)",
      "\u001b[1;32m<ipython-input-16-d0ce43246876>\u001b[0m in \u001b[0;36m<module>\u001b[1;34m\u001b[0m\n\u001b[1;32m----> 1\u001b[1;33m \u001b[0msamples_test\u001b[0m \u001b[1;33m=\u001b[0m \u001b[0mmessages\u001b[0m\u001b[1;33m.\u001b[0m\u001b[0msplit\u001b[0m\u001b[1;33m(\u001b[0m\u001b[1;34m\"\\n\"\u001b[0m\u001b[1;33m)\u001b[0m\u001b[1;33m\u001b[0m\u001b[1;33m\u001b[0m\u001b[0m\n\u001b[0m",
      "\u001b[1;31mAttributeError\u001b[0m: 'list' object has no attribute 'split'"
     ]
    }
   ],
   "metadata": {}
  },
  {
   "cell_type": "code",
   "execution_count": 17,
   "source": [
    "\"test\" + \"test\""
   ],
   "outputs": [
    {
     "output_type": "execute_result",
     "data": {
      "text/plain": [
       "'testtest'"
      ]
     },
     "metadata": {},
     "execution_count": 17
    }
   ],
   "metadata": {}
  },
  {
   "cell_type": "code",
   "execution_count": null,
   "source": [],
   "outputs": [],
   "metadata": {}
  },
  {
   "cell_type": "code",
   "execution_count": 9,
   "source": [
    "for i in messages:\r\n",
    "        stream_type = messages[i].split()[0]\r\n",
    "        print(stream_type)"
   ],
   "outputs": [
    {
     "output_type": "error",
     "ename": "TypeError",
     "evalue": "list indices must be integers or slices, not str",
     "traceback": [
      "\u001b[1;31m---------------------------------------------------------------------------\u001b[0m",
      "\u001b[1;31mTypeError\u001b[0m                                 Traceback (most recent call last)",
      "\u001b[1;32m<ipython-input-9-231ba65d168e>\u001b[0m in \u001b[0;36m<module>\u001b[1;34m\u001b[0m\n\u001b[0;32m      1\u001b[0m \u001b[1;32mfor\u001b[0m \u001b[0mi\u001b[0m \u001b[1;32min\u001b[0m \u001b[0mmessages\u001b[0m\u001b[1;33m:\u001b[0m\u001b[1;33m\u001b[0m\u001b[1;33m\u001b[0m\u001b[0m\n\u001b[1;32m----> 2\u001b[1;33m         \u001b[0mstream_type\u001b[0m \u001b[1;33m=\u001b[0m \u001b[0mmessages\u001b[0m\u001b[1;33m[\u001b[0m\u001b[0mi\u001b[0m\u001b[1;33m]\u001b[0m\u001b[1;33m.\u001b[0m\u001b[0msplit\u001b[0m\u001b[1;33m(\u001b[0m\u001b[1;33m)\u001b[0m\u001b[1;33m[\u001b[0m\u001b[1;36m0\u001b[0m\u001b[1;33m]\u001b[0m\u001b[1;33m\u001b[0m\u001b[1;33m\u001b[0m\u001b[0m\n\u001b[0m\u001b[0;32m      3\u001b[0m         \u001b[0mprint\u001b[0m\u001b[1;33m(\u001b[0m\u001b[0mstream_type\u001b[0m\u001b[1;33m)\u001b[0m\u001b[1;33m\u001b[0m\u001b[1;33m\u001b[0m\u001b[0m\n",
      "\u001b[1;31mTypeError\u001b[0m: list indices must be integers or slices, not str"
     ]
    }
   ],
   "metadata": {}
  },
  {
   "cell_type": "code",
   "execution_count": 7,
   "source": [
    "for i in messages:\r\n",
    "    print(i)"
   ],
   "outputs": [
    {
     "output_type": "stream",
     "name": "stdout",
     "text": [
      "E4_Temperature 1626392588.90914 30.95\n",
      "E4_Temperature 1626392589.15916 30.95\n",
      "E4_Temperature 1626392589.40917 30.95\n",
      "E4_Temperature 1626392589.65918 30.95\n",
      "E4_Temperature 1626392589.90919 30.95\n",
      "E4_Temperature 1626392590.1592 30.95\n",
      "E4_Temperature 1626392590.40921 30.95\n",
      "E4_Temperature 1626392590.65922 30.95\n",
      "\n",
      "E4_Temperature 1626392590.90924 30.97\n",
      "E4_Temperature 1626392591.15925 30.97\n",
      "\n",
      "E4_Temperature 1626392591.40926 30.97\n",
      "E4_Temperature 1626392591.65927 30.97\n",
      "E4_Temperature 1626392591.90928 30.95\n",
      "E4_Temperature 1626392592.15929 30.95\n",
      "\n",
      "E4_Temperature 1626392592.40931 30.95\n",
      "E4_Temperature 1626392592.65932 30.95\n",
      "\n",
      "E4_Temperature 1626392592.90933 30.95\n",
      "\n",
      "E4_Temperature 1626392593.15934 30.95\n",
      "E4_Temperature 1626392593.40935 30.95\n",
      "E4_Temperature 1626392593.65936 30.95\n",
      "E4_Temperature 1626392593.90937 30.95\n",
      "E4_Temperature 1626392594.15939 30.95\n",
      "E4_Temperature 1626392594.4094 30.95\n",
      "E4_Temperature 1626392594.65941 30.95\n",
      "\n",
      "E4_Temperature 1626392594.90942 30.95\n",
      "E4_Temperature 1626392595.15943 30.95\n",
      "\n",
      "E4_Temperature 1626392595.40944 30.95\n",
      "E4_Temperature 1626392595.65946 30.95\n",
      "E4_Temperature 1626392595.90947 30.93\n",
      "E4_Temperature 1626392596.15948 30.93\n",
      "E4_Temperature 1626392596.40949 30.93\n",
      "E4_Temperature 1626392596.6595 30.93\n",
      "\n",
      "E4_Temperature 1626392596.90951 30.95\n",
      "E4_Temperature 1626392597.15953 30.95\n",
      "\n",
      "E4_Temperature 1626392597.40954 30.95\n",
      "E4_Temperature 1626392597.65955 30.95\n",
      "E4_Temperature 1626392597.90956 30.93\n",
      "E4_Temperature 1626392598.15957 30.93\n",
      "E4_Temperature 1626392598.40958 30.93\n",
      "E4_Temperature 1626392598.65959 30.93\n",
      "\n",
      "E4_Temperature 1626392598.90961 30.95\n",
      "E4_Temperature 1626392599.15962 30.95\n",
      "\n",
      "E4_Temperature 1626392599.40963 30.95\n",
      "E4_Temperature 1626392599.65964 30.95\n",
      "E4_Temperature 1626392599.90965 30.95\n",
      "E4_Temperature 1626392600.15966 30.95\n",
      "\n",
      "E4_Temperature 1626392600.40968 30.95\n",
      "E4_Temperature 1626392600.65969 30.95\n",
      "\n",
      "E4_Temperature 1626392600.9097 30.93\n",
      "\n",
      "E4_Temperature 1626392601.15971 30.93\n",
      "E4_Temperature 1626392601.40972 30.93\n",
      "E4_Temperature 1626392601.65973 30.93\n",
      "E4_Temperature 1626392601.90975 30.97\n",
      "\n",
      "E4_Temperature 1626392602.15976 30.97\n",
      "E4_Temperature 1626392602.40977 30.97\n",
      "E4_Temperature 1626392602.65978 30.97\n",
      "\n",
      "E4_Temperature 1626392602.90979 30.97\n",
      "E4_Temperature 1626392603.1598 30.97\n",
      "\n",
      "E4_Temperature 1626392603.40981 30.97\n",
      "E4_Temperature 1626392603.65983 30.97\n",
      "E4_Temperature 1626392603.90984 30.93\n",
      "E4_Temperature 1626392604.15985 30.93\n",
      "E4_Temperature 1626392604.40986 30.93\n",
      "E4_Temperature 1626392604.65987 30.93\n",
      "\n",
      "E4_Temperature 1626392604.90988 30.93\n",
      "E4_Temperature 1626392605.1599 30.93\n",
      "\n",
      "E4_Temperature 1626392605.40991 30.93\n",
      "E4_Temperature 1626392605.65992 30.93\n",
      "E4_Temperature 1626392605.90993 30.95\n",
      "E4_Temperature 1626392606.15994 30.95\n",
      "E4_Temperature 1626392606.40995 30.95\n",
      "\n",
      "E4_Temperature 1626392606.65997 30.95\n",
      "\n"
     ]
    }
   ],
   "metadata": {}
  }
 ],
 "metadata": {
  "interpreter": {
   "hash": "7b4b4feff2f24a0f0a34464dbe537a36fda679851528fb8735cb41fa49dffb2d"
  },
  "kernelspec": {
   "display_name": "Python 3.7.6 64-bit ('base': conda)",
   "name": "python3"
  },
  "language_info": {
   "codemirror_mode": {
    "name": "ipython",
    "version": 3
   },
   "file_extension": ".py",
   "mimetype": "text/x-python",
   "name": "python",
   "nbconvert_exporter": "python",
   "pygments_lexer": "ipython3",
   "version": "3.7.6"
  },
  "orig_nbformat": 4
 },
 "nbformat": 4,
 "nbformat_minor": 2
}
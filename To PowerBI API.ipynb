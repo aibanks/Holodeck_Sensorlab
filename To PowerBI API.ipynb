{
 "cells": [
  {
   "cell_type": "code",
   "execution_count": 1,
   "source": [
    "#pip install requests"
   ],
   "outputs": [
    {
     "output_type": "stream",
     "name": "stdout",
     "text": [
      "Requirement already satisfied: requests in d:\\anaconda3\\lib\\site-packages (2.22.0)\n",
      "Requirement already satisfied: idna<2.9,>=2.5 in d:\\anaconda3\\lib\\site-packages (from requests) (2.8)\n",
      "Requirement already satisfied: urllib3!=1.25.0,!=1.25.1,<1.26,>=1.21.1 in d:\\anaconda3\\lib\\site-packages (from requests) (1.25.8)\n",
      "Requirement already satisfied: chardet<3.1.0,>=3.0.2 in d:\\anaconda3\\lib\\site-packages (from requests) (3.0.4)\n",
      "Requirement already satisfied: certifi>=2017.4.17 in d:\\anaconda3\\lib\\site-packages (from requests) (2019.11.28)\n",
      "Note: you may need to restart the kernel to use updated packages.\n"
     ]
    }
   ],
   "metadata": {}
  },
  {
   "cell_type": "code",
   "execution_count": 6,
   "source": [
    "import json"
   ],
   "outputs": [],
   "metadata": {}
  },
  {
   "cell_type": "code",
   "execution_count": 29,
   "source": [
    "import requests\r\n",
    "from datetime import datetime \r\n",
    "\r\n",
    "myurl = \"https://api.powerbi.com/beta/5ee35505-eb8e-4929-937d-645df5013288/datasets/50ad263b-54e0-44ba-93e7-b00cbc39f84d/rows?key=vO%2BdZoHdf6qaU5fg86ZXyj8H%2B4sGYbjCaU6CIvKh8kdC7hnu24Rp38n7785Cvjr4ldnLMGUjL9WuMsZH0CfDsw%3D%3D\"\r\n",
    "\r\n",
    "date = datetime.now().strftime(\"%Y-%m-%dT%H:%M:%S\")\r\n",
    "\r\n",
    "data= [\r\n",
    "{\r\n",
    "\"temp_datetime\" :date,\r\n",
    "\"temp_data\" :40,\r\n",
    "\"gsr_datetime\" :date,\r\n",
    "\"gsr_data\" :20\r\n",
    "}\r\n",
    "]\r\n",
    "\r\n",
    "r = requests.post(myurl, json.dumps(data))"
   ],
   "outputs": [],
   "metadata": {}
  },
  {
   "cell_type": "code",
   "execution_count": 14,
   "source": [
    "data= [{'temp_data' : (100, 200)}]\r\n",
    "\r\n",
    "print(json.dumps(data))"
   ],
   "outputs": [
    {
     "output_type": "stream",
     "name": "stdout",
     "text": [
      "[{\"temp_data\": [100, 200]}]\n"
     ]
    }
   ],
   "metadata": {}
  },
  {
   "cell_type": "code",
   "execution_count": 22,
   "source": [
    "from datetime import datetime \r\n",
    "\r\n",
    "print(datetime.now().strftime(\"%Y-%m-%dT%H:%M:%S\"))"
   ],
   "outputs": [
    {
     "output_type": "stream",
     "name": "stdout",
     "text": [
      "2021-07-19T13:21:02\n"
     ]
    }
   ],
   "metadata": {}
  }
 ],
 "metadata": {
  "orig_nbformat": 4,
  "language_info": {
   "name": "python"
  }
 },
 "nbformat": 4,
 "nbformat_minor": 2
}
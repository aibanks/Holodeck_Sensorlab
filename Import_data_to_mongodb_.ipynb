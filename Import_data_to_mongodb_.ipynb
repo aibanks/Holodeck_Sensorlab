{
 "cells": [
  {
   "cell_type": "code",
   "execution_count": 1,
   "source": [
    "#pip install pymongo"
   ],
   "outputs": [
    {
     "output_type": "stream",
     "name": "stdout",
     "text": [
      "Collecting pymongo\n",
      "  Downloading pymongo-3.12.0-cp37-cp37m-win_amd64.whl (396 kB)\n",
      "Installing collected packages: pymongo\n",
      "Successfully installed pymongo-3.12.0\n",
      "Note: you may need to restart the kernel to use updated packages.\n"
     ]
    }
   ],
   "metadata": {}
  },
  {
   "cell_type": "code",
   "execution_count": 1,
   "source": [
    "import json\r\n",
    "from pymongo import MongoClient\r\n",
    "\r\n",
    "# Making Connection\r\n",
    "myclient = MongoClient(\"mongodb://localhost:27017/\")\r\n",
    "\r\n",
    "# database\r\n",
    "db = myclient[\"Sensorlab\"]\r\n",
    "\r\n",
    "# Create or switch to collection\r\n",
    "Collection = db[\"E4_data\"]\r\n",
    "\r\n",
    "\r\n",
    "with open('0_5e20c79f9efc42fc9c09b4443a6646de_1.json') as f:\r\n",
    "    content = f.readlines()\r\n",
    "file1 = []\r\n",
    "for data in content:\r\n",
    "    file1.append(json.loads(data))\r\n",
    "\r\n",
    "if isinstance(file1, list):\r\n",
    "    Collection.insert_many(file1)\r\n",
    "else:\r\n",
    "    Collection.insert_one(file1)\r\n",
    "\r\n",
    "\r\n",
    "\r\n"
   ],
   "outputs": [],
   "metadata": {}
  },
  {
   "cell_type": "code",
   "execution_count": 2,
   "source": [
    "# Attempting to reformat the json file with nested json objects to reduce redundancy\r\n",
    "\r\n",
    "import json\r\n",
    "from pymongo import MongoClient\r\n",
    "\r\n",
    "# Define function to build nested json \r\n",
    "def make_nested_json(list_of_json):\r\n",
    "    participant_name = list_of_json[0]['Participant']\r\n",
    "    participant_ID = list_of_json[0]['Participant_ID']\r\n",
    "    session_ID = list_of_json[0]['Session_ID']\r\n",
    "    streams_and_data = [\r\n",
    "        {\r\n",
    "            'stream_type': list_of_json[0]['stream_type'], \r\n",
    "            'data': []\r\n",
    "        }\r\n",
    "    ]\r\n",
    "    for i in range(len(list_of_json)):\r\n",
    "        streams_in_dict = [a_dict[\"stream_type\"] for a_dict in streams_and_data]\r\n",
    "        indexed_stream_type = list_of_json[i]['stream_type']\r\n",
    "        if indexed_stream_type in streams_in_dict:                   \r\n",
    "            pass\r\n",
    "        else:\r\n",
    "            streams_and_data.append(\r\n",
    "                {\r\n",
    "                    'stream_type': indexed_stream_type,\r\n",
    "                    'data': []\r\n",
    "                }\r\n",
    "            )\r\n",
    "        streams_in_dict = [a_dict[\"stream_type\"] for a_dict in streams_and_data]\r\n",
    "        n = streams_in_dict.index(indexed_stream_type)\r\n",
    "        streams_and_data[n]['data'].append(\r\n",
    "            {\r\n",
    "                'Value': list_of_json[i]['Value'],\r\n",
    "                'dateTime': list_of_json[i]['dateTime_Unix']\r\n",
    "            }\r\n",
    "        )\r\n",
    "    nested_json = {\r\n",
    "        'Session_ID': session_ID,\r\n",
    "        'Participant_ID': participant_ID,\r\n",
    "        'Participant': participant_name,\r\n",
    "        'Streams': streams_and_data\r\n",
    "    } \r\n",
    "    return nested_json   \r\n",
    "\r\n",
    "# Making Connection to mongodb local \r\n",
    "myclient = MongoClient(\"mongodb://localhost:27017/\")\r\n",
    "# database\r\n",
    "db = myclient[\"Sensorlab\"]\r\n",
    "# Create or switch to collection\r\n",
    "Collection = db[\"test_nestedJSON\"]\r\n",
    "\r\n",
    "with open('0_5e20c79f9efc42fc9c09b4443a6646de_1.json') as f:\r\n",
    "    content = f.readlines()\r\n",
    "file1 = []\r\n",
    "for data in content:\r\n",
    "    file1.append(json.loads(data))\r\n",
    "\r\n",
    "nested_json_file1 = make_nested_json(file1)\r\n",
    "\r\n",
    "if isinstance(nested_json_file1, list):\r\n",
    "    Collection.insert_many(nested_json_file1)\r\n",
    "else:\r\n",
    "    Collection.insert_one(nested_json_file1)\r\n",
    "\r\n",
    "print('Success')"
   ],
   "outputs": [
    {
     "output_type": "stream",
     "name": "stdout",
     "text": [
      "Success\n"
     ]
    }
   ],
   "metadata": {}
  },
  {
   "cell_type": "code",
   "execution_count": 3,
   "source": [
    "file1[0]"
   ],
   "outputs": [
    {
     "output_type": "execute_result",
     "data": {
      "text/plain": [
       "{'stream_type': 'E4_Acc_X',\n",
       " 'Value': 30,\n",
       " 'dateTime': '2021-08-09 10:57:57.578',\n",
       " 'dateTime_Unix': '1628531877.57854',\n",
       " 'Session_ID': '0011628531876.4320786',\n",
       " 'Participant': 'Tony Banks',\n",
       " 'Participant_ID': '001',\n",
       " 'EventProcessedUtcTime': '2021-08-09T17:57:58.3449462Z',\n",
       " 'PartitionId': 0,\n",
       " 'EventEnqueuedUtcTime': '2021-08-09T17:57:58.1500000Z'}"
      ]
     },
     "metadata": {},
     "execution_count": 3
    }
   ],
   "metadata": {}
  },
  {
   "cell_type": "code",
   "execution_count": 4,
   "source": [
    "len(file1)"
   ],
   "outputs": [
    {
     "output_type": "execute_result",
     "data": {
      "text/plain": [
       "4568"
      ]
     },
     "metadata": {},
     "execution_count": 4
    }
   ],
   "metadata": {}
  },
  {
   "cell_type": "code",
   "execution_count": 7,
   "source": [
    "file1[0]['stream_type']"
   ],
   "outputs": [
    {
     "output_type": "execute_result",
     "data": {
      "text/plain": [
       "'E4_Acc_X'"
      ]
     },
     "metadata": {},
     "execution_count": 7
    }
   ],
   "metadata": {}
  },
  {
   "cell_type": "code",
   "execution_count": 5,
   "source": [
    "len(file1[0])"
   ],
   "outputs": [
    {
     "output_type": "execute_result",
     "data": {
      "text/plain": [
       "10"
      ]
     },
     "metadata": {},
     "execution_count": 5
    }
   ],
   "metadata": {}
  },
  {
   "cell_type": "code",
   "execution_count": 9,
   "source": [
    "a = {'value': 10, 'dateTime': '20210811'}\r\n",
    "a"
   ],
   "outputs": [
    {
     "output_type": "execute_result",
     "data": {
      "text/plain": [
       "{'value': 10, 'dateTime': '20210811'}"
      ]
     },
     "metadata": {},
     "execution_count": 9
    }
   ],
   "metadata": {}
  },
  {
   "cell_type": "code",
   "execution_count": 10,
   "source": [
    "b = {'value': 20, 'dateTime': '20210810'}\r\n",
    "b"
   ],
   "outputs": [
    {
     "output_type": "execute_result",
     "data": {
      "text/plain": [
       "{'value': 20, 'dateTime': '20210810'}"
      ]
     },
     "metadata": {},
     "execution_count": 10
    }
   ],
   "metadata": {}
  },
  {
   "cell_type": "code",
   "execution_count": 11,
   "source": [
    "t = []\r\n",
    "t"
   ],
   "outputs": [
    {
     "output_type": "execute_result",
     "data": {
      "text/plain": [
       "[]"
      ]
     },
     "metadata": {},
     "execution_count": 11
    }
   ],
   "metadata": {}
  },
  {
   "cell_type": "code",
   "execution_count": 13,
   "source": [
    "#t.append(a)\r\n",
    "t"
   ],
   "outputs": [
    {
     "output_type": "execute_result",
     "data": {
      "text/plain": [
       "[{'value': 10, 'dateTime': '20210811'}]"
      ]
     },
     "metadata": {},
     "execution_count": 13
    }
   ],
   "metadata": {}
  },
  {
   "cell_type": "code",
   "execution_count": 15,
   "source": [
    "print(\"Initial value of t\",t)\r\n",
    "t.append(b)\r\n",
    "print(\"Updated value of t\",t)"
   ],
   "outputs": [
    {
     "output_type": "stream",
     "name": "stdout",
     "text": [
      "Initial value of t [{'value': 10, 'dateTime': '20210811'}]\n",
      "Updated value of t [{'value': 10, 'dateTime': '20210811'}, {'value': 20, 'dateTime': '20210810'}]\n"
     ]
    }
   ],
   "metadata": {}
  },
  {
   "cell_type": "code",
   "execution_count": 16,
   "source": [
    "stream1 = {\"stream_type\": \"E4_Gsr\"}\r\n",
    "stream2 = {\"stream_type\": \"E4_Bvp\"}"
   ],
   "outputs": [],
   "metadata": {}
  },
  {
   "cell_type": "code",
   "execution_count": 17,
   "source": [
    "test = [stream1, stream2]\r\n",
    "test"
   ],
   "outputs": [
    {
     "output_type": "execute_result",
     "data": {
      "text/plain": [
       "[{'stream_type': 'E4_Gsr'}, {'stream_type': 'E4_Bvp'}]"
      ]
     },
     "metadata": {},
     "execution_count": 17
    }
   ],
   "metadata": {}
  },
  {
   "cell_type": "code",
   "execution_count": 21,
   "source": [
    "test2 = {'streams':test}\r\n",
    "test2"
   ],
   "outputs": [
    {
     "output_type": "execute_result",
     "data": {
      "text/plain": [
       "{'streams': [{'stream_type': 'E4_Gsr'}, {'stream_type': 'E4_Bvp'}]}"
      ]
     },
     "metadata": {},
     "execution_count": 21
    }
   ],
   "metadata": {}
  },
  {
   "cell_type": "code",
   "execution_count": 24,
   "source": [
    "test2['streams']"
   ],
   "outputs": [
    {
     "output_type": "execute_result",
     "data": {
      "text/plain": [
       "[{'stream_type': 'E4_Gsr'}, {'stream_type': 'E4_Bvp'}]"
      ]
     },
     "metadata": {},
     "execution_count": 24
    }
   ],
   "metadata": {}
  },
  {
   "cell_type": "code",
   "execution_count": 25,
   "source": [
    "test2['streams'][0]"
   ],
   "outputs": [
    {
     "output_type": "execute_result",
     "data": {
      "text/plain": [
       "{'stream_type': 'E4_Gsr'}"
      ]
     },
     "metadata": {},
     "execution_count": 25
    }
   ],
   "metadata": {}
  },
  {
   "cell_type": "code",
   "execution_count": 28,
   "source": [
    "test2['streams'][1].values()"
   ],
   "outputs": [
    {
     "output_type": "execute_result",
     "data": {
      "text/plain": [
       "dict_values(['E4_Bvp'])"
      ]
     },
     "metadata": {},
     "execution_count": 28
    }
   ],
   "metadata": {}
  },
  {
   "cell_type": "code",
   "execution_count": 35,
   "source": [
    "stream1 = {\"stream_type\": \"E4_Gsr\", \"data\": [{\"value\": 20, \"timestamp\": \"20210811\"}, {\"value\": 15, \"timestamp\": \"20200810\"}]}\r\n",
    "stream2 = {\"stream_type\": \"E4_Bvp\", \"data\": [{\"value\": 10, \"timestamp\": \"20210711\"}, {\"value\": 5, \"timestamp\": \"20190704\"}]}\r\n",
    "\r\n",
    "test_json = {\"Participant\" : \"Tony Banks\", \"Participant_ID\": \"001\", \"streams\": [stream1, stream2]}"
   ],
   "outputs": [],
   "metadata": {}
  },
  {
   "cell_type": "code",
   "execution_count": 36,
   "source": [
    "test_json"
   ],
   "outputs": [
    {
     "output_type": "execute_result",
     "data": {
      "text/plain": [
       "{'Participant': 'Tony Banks',\n",
       " 'Participant_ID': '001',\n",
       " 'streams': [{'stream_type': 'E4_Gsr',\n",
       "   'data': [{'value': 20, 'timestamp': '20210811'},\n",
       "    {'value': 15, 'timestamp': '20200810'}]},\n",
       "  {'stream_type': 'E4_Bvp',\n",
       "   'data': [{'value': 10, 'timestamp': '20210711'},\n",
       "    {'value': 5, 'timestamp': '20190704'}]}]}"
      ]
     },
     "metadata": {},
     "execution_count": 36
    }
   ],
   "metadata": {}
  },
  {
   "cell_type": "code",
   "execution_count": 49,
   "source": [
    "test_json['streams']['stream_type' == 'E4_Bvp']['data']"
   ],
   "outputs": [
    {
     "output_type": "execute_result",
     "data": {
      "text/plain": [
       "[{'value': 20, 'timestamp': '20210811'},\n",
       " {'value': 15, 'timestamp': '20200810'}]"
      ]
     },
     "metadata": {},
     "execution_count": 49
    }
   ],
   "metadata": {}
  },
  {
   "cell_type": "code",
   "execution_count": 50,
   "source": [
    "test_json['streams'][0]['data']"
   ],
   "outputs": [
    {
     "output_type": "execute_result",
     "data": {
      "text/plain": [
       "[{'value': 20, 'timestamp': '20210811'},\n",
       " {'value': 15, 'timestamp': '20200810'}]"
      ]
     },
     "metadata": {},
     "execution_count": 50
    }
   ],
   "metadata": {}
  },
  {
   "cell_type": "code",
   "execution_count": 51,
   "source": [
    "test_json.keys()"
   ],
   "outputs": [
    {
     "output_type": "execute_result",
     "data": {
      "text/plain": [
       "dict_keys(['Participant', 'Participant_ID', 'streams'])"
      ]
     },
     "metadata": {},
     "execution_count": 51
    }
   ],
   "metadata": {}
  },
  {
   "cell_type": "code",
   "execution_count": 53,
   "source": [
    "test_json['streams'][0].keys()"
   ],
   "outputs": [
    {
     "output_type": "execute_result",
     "data": {
      "text/plain": [
       "dict_keys(['stream_type', 'data'])"
      ]
     },
     "metadata": {},
     "execution_count": 53
    }
   ],
   "metadata": {}
  },
  {
   "cell_type": "code",
   "execution_count": 55,
   "source": [
    "test_json['streams'][0]['data'][0].keys()"
   ],
   "outputs": [
    {
     "output_type": "execute_result",
     "data": {
      "text/plain": [
       "dict_keys(['value', 'timestamp'])"
      ]
     },
     "metadata": {},
     "execution_count": 55
    }
   ],
   "metadata": {}
  },
  {
   "cell_type": "code",
   "execution_count": 76,
   "source": [
    "test_json"
   ],
   "outputs": [
    {
     "output_type": "execute_result",
     "data": {
      "text/plain": [
       "{'Participant': 'Tony Banks',\n",
       " 'Participant_ID': '001',\n",
       " 'streams': [{'stream_type': 'E4_Gsr',\n",
       "   'data': [{'value': 20, 'timestamp': '20210811'},\n",
       "    {'value': 15, 'timestamp': '20200810'}]},\n",
       "  {'stream_type': 'E4_Bvp',\n",
       "   'data': [{'value': 10, 'timestamp': '20210711'},\n",
       "    {'value': 5, 'timestamp': '20190704'}]}]}"
      ]
     },
     "metadata": {},
     "execution_count": 76
    }
   ],
   "metadata": {}
  },
  {
   "cell_type": "code",
   "execution_count": 77,
   "source": [
    "test_list"
   ],
   "outputs": [
    {
     "output_type": "execute_result",
     "data": {
      "text/plain": [
       "[{'stream_type': 'E4_Gsr',\n",
       "  'data': [{'value': 20, 'timestamp': '20210811'},\n",
       "   {'value': 15, 'timestamp': '20200810'}]},\n",
       " {'stream_type': 'E4_Bvp'}]"
      ]
     },
     "metadata": {},
     "execution_count": 77
    }
   ],
   "metadata": {}
  },
  {
   "cell_type": "code",
   "execution_count": 43,
   "source": [
    "## Creating function to build nested json \r\n",
    "\r\n",
    "def make_nested_json(list_of_json):\r\n",
    "    participant_name = list_of_json[0]['Participant']\r\n",
    "    participant_ID = list_of_json[0]['Participant_ID']\r\n",
    "    session_ID = list_of_json[0]['Session_ID']\r\n",
    "    streams_and_data = [\r\n",
    "        {\r\n",
    "            'stream_type': list_of_json[0]['stream_type'], \r\n",
    "            'data': []\r\n",
    "        }\r\n",
    "    ]\r\n",
    "    for i in range(len(list_of_json)):\r\n",
    "        streams_in_dict = [a_dict[\"stream_type\"] for a_dict in streams_and_data]\r\n",
    "        indexed_stream_type = list_of_json[i]['stream_type']\r\n",
    "        if indexed_stream_type in streams_in_dict:                   \r\n",
    "            pass\r\n",
    "        else:\r\n",
    "            streams_and_data.append(\r\n",
    "                {\r\n",
    "                    'stream_type': indexed_stream_type,\r\n",
    "                    'data': []\r\n",
    "                }\r\n",
    "            )\r\n",
    "        streams_in_dict = [a_dict[\"stream_type\"] for a_dict in streams_and_data]\r\n",
    "        n = streams_in_dict.index(indexed_stream_type)\r\n",
    "        streams_and_data[n]['data'].append(\r\n",
    "            {\r\n",
    "                'Value': list_of_json[i]['Value'],\r\n",
    "                'dateTime': list_of_json[i]['dateTime_Unix']\r\n",
    "            }\r\n",
    "        )\r\n",
    "    #return streams_and_data\r\n",
    "    nested_json = {\r\n",
    "        'Session_ID': session_ID,\r\n",
    "        'Participant_ID': participant_ID,\r\n",
    "        'Participant': participant_name,\r\n",
    "        'Streams': streams_and_data\r\n",
    "    } \r\n",
    "    return nested_json     \r\n",
    "\r\n",
    "\r\n",
    "\r\n",
    "\r\n",
    "test = make_nested_json(file1[0:50])\r\n",
    "\r\n"
   ],
   "outputs": [],
   "metadata": {}
  },
  {
   "cell_type": "code",
   "execution_count": 44,
   "source": [
    "test"
   ],
   "outputs": [
    {
     "output_type": "execute_result",
     "data": {
      "text/plain": [
       "{'Session_ID': '0011628531876.4320786',\n",
       " 'Participant_ID': '001',\n",
       " 'Participant': 'Tony Banks',\n",
       " 'Streams': [{'stream_type': 'E4_Acc_X',\n",
       "   'data': [{'Value': 30, 'dateTime': '1628531877.57854'},\n",
       "    {'Value': 34, 'dateTime': '1628531877.60979'},\n",
       "    {'Value': 92, 'dateTime': '1628531877.64104'},\n",
       "    {'Value': 105, 'dateTime': '1628531877.67229'},\n",
       "    {'Value': 62, 'dateTime': '1628531877.70354'},\n",
       "    {'Value': 50, 'dateTime': '1628531877.73479'},\n",
       "    {'Value': 57, 'dateTime': '1628531877.76604'}]},\n",
       "  {'stream_type': 'E4_Acc_Y',\n",
       "   'data': [{'Value': -27, 'dateTime': '1628531877.57854'},\n",
       "    {'Value': -30, 'dateTime': '1628531877.60979'},\n",
       "    {'Value': -39, 'dateTime': '1628531877.64104'},\n",
       "    {'Value': -41, 'dateTime': '1628531877.67229'},\n",
       "    {'Value': -25, 'dateTime': '1628531877.70354'},\n",
       "    {'Value': -29, 'dateTime': '1628531877.73479'},\n",
       "    {'Value': -31, 'dateTime': '1628531877.76604'}]},\n",
       "  {'stream_type': 'E4_Acc_Z',\n",
       "   'data': [{'Value': 35, 'dateTime': '1628531877.57854'},\n",
       "    {'Value': 33, 'dateTime': '1628531877.60979'},\n",
       "    {'Value': 42, 'dateTime': '1628531877.64104'},\n",
       "    {'Value': 50, 'dateTime': '1628531877.67229'},\n",
       "    {'Value': 20, 'dateTime': '1628531877.70354'},\n",
       "    {'Value': 19, 'dateTime': '1628531877.73479'}]},\n",
       "  {'stream_type': 'E4_Bvp',\n",
       "   'data': [{'Value': 1.551876, 'dateTime': '1628531877.60879'},\n",
       "    {'Value': 1.721474, 'dateTime': '1628531877.62442'},\n",
       "    {'Value': 2.061302, 'dateTime': '1628531877.64004'},\n",
       "    {'Value': 2.584076, 'dateTime': '1628531877.65567'},\n",
       "    {'Value': 3.283825, 'dateTime': '1628531877.67129'},\n",
       "    {'Value': 4.123158, 'dateTime': '1628531877.68692'},\n",
       "    {'Value': 5.037952, 'dateTime': '1628531877.70255'},\n",
       "    {'Value': 5.935829, 'dateTime': '1628531877.71817'},\n",
       "    {'Value': 6.722073, 'dateTime': '1628531877.7338'},\n",
       "    {'Value': 7.341633, 'dateTime': '1628531877.74942'},\n",
       "    {'Value': 7.815212, 'dateTime': '1628531877.76505'},\n",
       "    {'Value': 8.225876, 'dateTime': '1628531877.78067'},\n",
       "    {'Value': 8.679913, 'dateTime': '1628531877.7963'},\n",
       "    {'Value': 9.25676, 'dateTime': '1628531877.81193'},\n",
       "    {'Value': 9.971874, 'dateTime': '1628531877.82755'},\n",
       "    {'Value': 10.78303, 'dateTime': '1628531877.84318'},\n",
       "    {'Value': 11.61652, 'dateTime': '1628531877.8588'},\n",
       "    {'Value': 12.42933, 'dateTime': '1628531877.87443'},\n",
       "    {'Value': 13.23224, 'dateTime': '1628531877.89005'},\n",
       "    {'Value': 14.07339, 'dateTime': '1628531877.90568'},\n",
       "    {'Value': 15.01, 'dateTime': '1628531877.92131'},\n",
       "    {'Value': 16.07066, 'dateTime': '1628531877.93693'}]},\n",
       "  {'stream_type': 'E4_Temperature',\n",
       "   'data': [{'Value': 27.43, 'dateTime': '1628531876.07864'},\n",
       "    {'Value': 27.43, 'dateTime': '1628531876.32865'},\n",
       "    {'Value': 27.43, 'dateTime': '1628531876.57867'},\n",
       "    {'Value': 27.43, 'dateTime': '1628531876.82868'},\n",
       "    {'Value': 27.45, 'dateTime': '1628531877.07869'},\n",
       "    {'Value': 27.45, 'dateTime': '1628531877.3287'},\n",
       "    {'Value': 27.45, 'dateTime': '1628531877.57871'},\n",
       "    {'Value': 27.45, 'dateTime': '1628531877.82872'}]}]}"
      ]
     },
     "metadata": {},
     "execution_count": 44
    }
   ],
   "metadata": {}
  },
  {
   "cell_type": "code",
   "execution_count": 56,
   "source": [
    "def find(lst, key, value):\r\n",
    "    for i, dic in enumerate(lst):\r\n",
    "        if dic[key] == value:\r\n",
    "            return i\r\n",
    "    return -1"
   ],
   "outputs": [],
   "metadata": {}
  },
  {
   "cell_type": "code",
   "execution_count": 58,
   "source": [
    "i = find(test['Streams'], 'stream_type', 'E4_Temperature')"
   ],
   "outputs": [],
   "metadata": {}
  },
  {
   "cell_type": "code",
   "execution_count": 60,
   "source": [
    "test['Streams'][i]['data']"
   ],
   "outputs": [
    {
     "output_type": "execute_result",
     "data": {
      "text/plain": [
       "[{'Value': 27.43, 'dateTime': '1628531876.07864'},\n",
       " {'Value': 27.43, 'dateTime': '1628531876.32865'},\n",
       " {'Value': 27.43, 'dateTime': '1628531876.57867'},\n",
       " {'Value': 27.43, 'dateTime': '1628531876.82868'},\n",
       " {'Value': 27.45, 'dateTime': '1628531877.07869'},\n",
       " {'Value': 27.45, 'dateTime': '1628531877.3287'},\n",
       " {'Value': 27.45, 'dateTime': '1628531877.57871'},\n",
       " {'Value': 27.45, 'dateTime': '1628531877.82872'}]"
      ]
     },
     "metadata": {},
     "execution_count": 60
    }
   ],
   "metadata": {}
  },
  {
   "cell_type": "code",
   "execution_count": null,
   "source": [
    "test"
   ],
   "outputs": [],
   "metadata": {}
  },
  {
   "cell_type": "code",
   "execution_count": null,
   "source": [
    "subset_file1[19]"
   ],
   "outputs": [],
   "metadata": {}
  },
  {
   "cell_type": "code",
   "execution_count": null,
   "source": [
    "test_list[n]['data'].append({'Value': file1[0]['Value'], 'dateTime': file1[0]['dateTime']})"
   ],
   "outputs": [],
   "metadata": {}
  },
  {
   "cell_type": "code",
   "execution_count": 1,
   "source": [
    "test_list = [{'stream_type': 'E4_Gsr',\r\n",
    "   'data': [{'value': 20, 'timestamp': '20210811'},\r\n",
    "    {'value': 15, 'timestamp': '20200810'}]},\r\n",
    "  {'stream_type': 'E4_Bvp', 'data':[]}]"
   ],
   "outputs": [],
   "metadata": {}
  },
  {
   "cell_type": "code",
   "execution_count": 2,
   "source": [
    "temp_stream_type = \"E4_Bvp\"\r\n",
    "\r\n",
    "streams_list = [a_dict[\"stream_type\"] for a_dict in test_list]\r\n",
    "\r\n",
    "n = streams_list.index(temp_stream_type)\r\n",
    "print(n)"
   ],
   "outputs": [
    {
     "output_type": "stream",
     "name": "stdout",
     "text": [
      "1\n"
     ]
    }
   ],
   "metadata": {}
  },
  {
   "cell_type": "code",
   "execution_count": 3,
   "source": [
    "test_list[n]"
   ],
   "outputs": [
    {
     "output_type": "execute_result",
     "data": {
      "text/plain": [
       "{'stream_type': 'E4_Bvp', 'data': []}"
      ]
     },
     "metadata": {},
     "execution_count": 3
    }
   ],
   "metadata": {}
  },
  {
   "cell_type": "code",
   "execution_count": 11,
   "source": [
    "test_list[n]['data']"
   ],
   "outputs": [
    {
     "output_type": "execute_result",
     "data": {
      "text/plain": [
       "[{'Value': 30, 'dateTime': '2021-08-09 10:57:57.578'}]"
      ]
     },
     "metadata": {},
     "execution_count": 11
    }
   ],
   "metadata": {}
  },
  {
   "cell_type": "code",
   "execution_count": 10,
   "source": [
    "test_list[n]['data'].append({'Value': file1[0]['Value'], 'dateTime': file1[0]['dateTime']})"
   ],
   "outputs": [],
   "metadata": {}
  },
  {
   "cell_type": "code",
   "execution_count": 8,
   "source": [
    "file1[0]"
   ],
   "outputs": [
    {
     "output_type": "execute_result",
     "data": {
      "text/plain": [
       "{'stream_type': 'E4_Acc_X',\n",
       " 'Value': 30,\n",
       " 'dateTime': '2021-08-09 10:57:57.578',\n",
       " 'dateTime_Unix': '1628531877.57854',\n",
       " 'Session_ID': '0011628531876.4320786',\n",
       " 'Participant': 'Tony Banks',\n",
       " 'Participant_ID': '001',\n",
       " 'EventProcessedUtcTime': '2021-08-09T17:57:58.3449462Z',\n",
       " 'PartitionId': 0,\n",
       " 'EventEnqueuedUtcTime': '2021-08-09T17:57:58.1500000Z'}"
      ]
     },
     "metadata": {},
     "execution_count": 8
    }
   ],
   "metadata": {}
  },
  {
   "cell_type": "code",
   "execution_count": 73,
   "source": [
    "test_list[0].items()"
   ],
   "outputs": [
    {
     "output_type": "execute_result",
     "data": {
      "text/plain": [
       "dict_items([('stream_type', 'E4_Gsr'), ('data', [{'value': 20, 'timestamp': '20210811'}, {'value': 15, 'timestamp': '20200810'}])])"
      ]
     },
     "metadata": {},
     "execution_count": 73
    }
   ],
   "metadata": {}
  },
  {
   "cell_type": "code",
   "execution_count": 72,
   "source": [
    "'E4_Gsr' in test_list[0]"
   ],
   "outputs": [
    {
     "output_type": "execute_result",
     "data": {
      "text/plain": [
       "False"
      ]
     },
     "metadata": {},
     "execution_count": 72
    }
   ],
   "metadata": {}
  },
  {
   "cell_type": "code",
   "execution_count": 81,
   "source": [
    "test_list.values()"
   ],
   "outputs": [
    {
     "output_type": "error",
     "ename": "AttributeError",
     "evalue": "'list' object has no attribute 'values'",
     "traceback": [
      "\u001b[1;31m---------------------------------------------------------------------------\u001b[0m",
      "\u001b[1;31mAttributeError\u001b[0m                            Traceback (most recent call last)",
      "\u001b[1;32m<ipython-input-81-2c229a1bcae6>\u001b[0m in \u001b[0;36m<module>\u001b[1;34m\u001b[0m\n\u001b[1;32m----> 1\u001b[1;33m \u001b[0mtest_list\u001b[0m\u001b[1;33m.\u001b[0m\u001b[0mvalues\u001b[0m\u001b[1;33m(\u001b[0m\u001b[1;33m)\u001b[0m\u001b[1;33m\u001b[0m\u001b[1;33m\u001b[0m\u001b[0m\n\u001b[0m",
      "\u001b[1;31mAttributeError\u001b[0m: 'list' object has no attribute 'values'"
     ]
    }
   ],
   "metadata": {}
  },
  {
   "cell_type": "code",
   "execution_count": 56,
   "source": [
    "test_json"
   ],
   "outputs": [
    {
     "output_type": "execute_result",
     "data": {
      "text/plain": [
       "{'Participant': 'Tony Banks',\n",
       " 'Participant_ID': '001',\n",
       " 'streams': [{'stream_type': 'E4_Gsr',\n",
       "   'data': [{'value': 20, 'timestamp': '20210811'},\n",
       "    {'value': 15, 'timestamp': '20200810'}]},\n",
       "  {'stream_type': 'E4_Bvp',\n",
       "   'data': [{'value': 10, 'timestamp': '20210711'},\n",
       "    {'value': 5, 'timestamp': '20190704'}]}]}"
      ]
     },
     "metadata": {},
     "execution_count": 56
    }
   ],
   "metadata": {}
  },
  {
   "cell_type": "code",
   "execution_count": 33,
   "source": [
    "demo = ['E4_Bvp','E4_Ibi']"
   ],
   "outputs": [],
   "metadata": {}
  },
  {
   "cell_type": "code",
   "execution_count": 34,
   "source": [
    "file1[0]['stream_type'] in demo"
   ],
   "outputs": [
    {
     "output_type": "execute_result",
     "data": {
      "text/plain": [
       "False"
      ]
     },
     "metadata": {},
     "execution_count": 34
    }
   ],
   "metadata": {}
  },
  {
   "cell_type": "code",
   "execution_count": 41,
   "source": [
    "demo2 = ['E4_Bvp', 'E4_Ibi', 'E4_Acc_X']"
   ],
   "outputs": [],
   "metadata": {}
  },
  {
   "cell_type": "code",
   "execution_count": 42,
   "source": [
    "file1[0]['stream_type'] in demo2"
   ],
   "outputs": [
    {
     "output_type": "execute_result",
     "data": {
      "text/plain": [
       "True"
      ]
     },
     "metadata": {},
     "execution_count": 42
    }
   ],
   "metadata": {}
  },
  {
   "cell_type": "code",
   "execution_count": 43,
   "source": [
    "demo2.index('E4_Acc_X')"
   ],
   "outputs": [
    {
     "output_type": "execute_result",
     "data": {
      "text/plain": [
       "2"
      ]
     },
     "metadata": {},
     "execution_count": 43
    }
   ],
   "metadata": {}
  },
  {
   "cell_type": "code",
   "execution_count": 32,
   "source": [
    "file1[0]"
   ],
   "outputs": [
    {
     "output_type": "execute_result",
     "data": {
      "text/plain": [
       "{'stream_type': 'E4_Acc_X',\n",
       " 'Value': 30,\n",
       " 'dateTime': '2021-08-09 10:57:57.578',\n",
       " 'dateTime_Unix': '1628531877.57854',\n",
       " 'Session_ID': '0011628531876.4320786',\n",
       " 'Participant': 'Tony Banks',\n",
       " 'Participant_ID': '001',\n",
       " 'EventProcessedUtcTime': '2021-08-09T17:57:58.3449462Z',\n",
       " 'PartitionId': 0,\n",
       " 'EventEnqueuedUtcTime': '2021-08-09T17:57:58.1500000Z'}"
      ]
     },
     "metadata": {},
     "execution_count": 32
    }
   ],
   "metadata": {}
  },
  {
   "cell_type": "code",
   "execution_count": 8,
   "source": [
    "file1[0].keys()"
   ],
   "outputs": [
    {
     "output_type": "execute_result",
     "data": {
      "text/plain": [
       "dict_keys(['stream_type', 'Value', 'dateTime', 'dateTime_Unix', 'Session_ID', 'Participant', 'Participant_ID', 'EventProcessedUtcTime', 'PartitionId', 'EventEnqueuedUtcTime'])"
      ]
     },
     "metadata": {},
     "execution_count": 8
    }
   ],
   "metadata": {}
  }
 ],
 "metadata": {
  "orig_nbformat": 4,
  "language_info": {
   "name": "python",
   "version": "3.7.6",
   "mimetype": "text/x-python",
   "codemirror_mode": {
    "name": "ipython",
    "version": 3
   },
   "pygments_lexer": "ipython3",
   "nbconvert_exporter": "python",
   "file_extension": ".py"
  },
  "kernelspec": {
   "name": "python3",
   "display_name": "Python 3.7.6 64-bit ('base': conda)"
  },
  "interpreter": {
   "hash": "7b4b4feff2f24a0f0a34464dbe537a36fda679851528fb8735cb41fa49dffb2d"
  }
 },
 "nbformat": 4,
 "nbformat_minor": 2
}
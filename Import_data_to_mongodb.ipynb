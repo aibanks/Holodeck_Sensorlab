{
 "cells": [
  {
   "cell_type": "code",
   "execution_count": 1,
   "source": [
    "#pip install pymongo"
   ],
   "outputs": [
    {
     "output_type": "stream",
     "name": "stdout",
     "text": [
      "Collecting pymongo\n",
      "  Downloading pymongo-3.12.0-cp37-cp37m-win_amd64.whl (396 kB)\n",
      "Installing collected packages: pymongo\n",
      "Successfully installed pymongo-3.12.0\n",
      "Note: you may need to restart the kernel to use updated packages.\n"
     ]
    }
   ],
   "metadata": {}
  },
  {
   "cell_type": "code",
   "execution_count": 2,
   "source": [
    "import json\r\n",
    "from pymongo import MongoClient\r\n",
    "\r\n",
    "# Making Connection\r\n",
    "myclient = MongoClient(\"mongodb://localhost:27017/\")\r\n",
    "\r\n",
    "# database\r\n",
    "db = myclient[\"Sensorlab\"]\r\n",
    "\r\n",
    "# Create or switch to collection\r\n",
    "Collection = db[\"E4_data\"]\r\n",
    "\r\n",
    "\r\n",
    "with open('0_5e20c79f9efc42fc9c09b4443a6646de_1.json') as f:\r\n",
    "    content = f.readlines()\r\n",
    "file1 = []\r\n",
    "for data in content:\r\n",
    "    file1.append(json.loads(data))\r\n",
    "\r\n",
    "if isinstance(file1, list):\r\n",
    "    Collection.insert_many(file1)\r\n",
    "else:\r\n",
    "    Collection.insert_one(file1)\r\n",
    "\r\n",
    "\r\n",
    "\r\n"
   ],
   "outputs": [],
   "metadata": {}
  }
 ],
 "metadata": {
  "orig_nbformat": 4,
  "language_info": {
   "name": "python",
   "version": "3.7.6",
   "mimetype": "text/x-python",
   "codemirror_mode": {
    "name": "ipython",
    "version": 3
   },
   "pygments_lexer": "ipython3",
   "nbconvert_exporter": "python",
   "file_extension": ".py"
  },
  "kernelspec": {
   "name": "python3",
   "display_name": "Python 3.7.6 64-bit ('base': conda)"
  },
  "interpreter": {
   "hash": "7b4b4feff2f24a0f0a34464dbe537a36fda679851528fb8735cb41fa49dffb2d"
  }
 },
 "nbformat": 4,
 "nbformat_minor": 2
}
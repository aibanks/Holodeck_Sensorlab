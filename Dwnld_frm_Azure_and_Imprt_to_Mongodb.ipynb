{
 "cells": [
  {
   "cell_type": "code",
   "execution_count": null,
   "source": [
    "#pip install azure.storage.blob"
   ],
   "outputs": [],
   "metadata": {}
  },
  {
   "cell_type": "code",
   "execution_count": 18,
   "source": [
    "# Retrieve list of blobs from designated container\r\n",
    "# Check if blob name is a file name in current directory\r\n",
    "# If no same file name in directory, download the file associated with that blobname\r\n",
    "\r\n",
    "import time\r\n",
    "from azure.storage.blob import ContainerClient\r\n",
    "from azure.storage.blob import BlobServiceClient\r\n",
    "import json\r\n",
    "from pymongo import MongoClient\r\n",
    "\r\n",
    "blob_service_client_instance = BlobServiceClient(account_url=STORAGEACCOUNTURL, credential=STORAGEACCOUNTKEY)\r\n",
    "container = ContainerClient.from_connection_string(conn_str=os.environ.get('AZURE_STORAGE_CONNECTION_STRING'), container_name=\"container2\")\r\n",
    "\r\n",
    "new_files = []\r\n",
    "all_files = []\r\n",
    "\r\n",
    "blob_list = container.list_blobs()\r\n",
    "for blob in blob_list:\r\n",
    "    print(blob.name + '\\n')\r\n",
    "    all_files.append(blob.name)\r\n",
    "    if blob.name not in os.listdir(os.curdir):\r\n",
    "        new_files.append(blob.name)\r\n",
    "        t1=time.time()\r\n",
    "        blob_client_instance = blob_service_client_instance.get_blob_client(\"container2\", blob.name, snapshot=None)\r\n",
    "        with open(blob.name, \"wb\") as my_blob:\r\n",
    "            blob_data = blob_client_instance.download_blob()\r\n",
    "            blob_data.readinto(my_blob)\r\n",
    "        t2=time.time()\r\n",
    "        print((\"It takes %s seconds to download \"+blob.name + '\\n') % (t2 - t1))\r\n",
    "\r\n",
    "### Import new data to mongodb, one file at a time\r\n",
    "\r\n",
    "# Making Connection\r\n",
    "myclient = MongoClient(\"mongodb://localhost:27017/\")\r\n",
    "\r\n",
    "# database\r\n",
    "db = myclient[\"Sensorlab\"]  #update here to switch database\r\n",
    "\r\n",
    "# Create or switch to collection\r\n",
    "Collection = db[\"E4_data\"]  #update here to switch collection\r\n",
    "\r\n",
    "for i in range(len(new_files)):\r\n",
    "    with open(new_files[i]) as f:\r\n",
    "        content = f.readlines()\r\n",
    "    file_data = []\r\n",
    "    for data in content:\r\n",
    "        file_data.append(json.loads(data))\r\n",
    "\r\n",
    "    if isinstance(file_data, list):\r\n",
    "        Collection.insert_many(file_data)\r\n",
    "    else:\r\n",
    "        Collection.insert_one(file_data)\r\n",
    "    print(f\"Imported {new_files[i]} to the database.\")\r\n",
    "\r\n"
   ],
   "outputs": [
    {
     "output_type": "stream",
     "name": "stdout",
     "text": [
      "0_18fc7328361948c0865df2f0c53aa008_1.json\n",
      "\n",
      "0_2f7120ed65194093a6df6dacd979d706_1.json\n",
      "\n",
      "0_36ecfdb7ea4941c2938e3f91a9003ea0_1.json\n",
      "\n",
      "It takes 3.7836661338806152 seconds to download 0_36ecfdb7ea4941c2938e3f91a9003ea0_1.json\n",
      "\n",
      "0_4862fd0f886945c6b5fa1ed9b391e807_1.json\n",
      "\n",
      "0_5e20c79f9efc42fc9c09b4443a6646de_1.json\n",
      "\n",
      "0_603c31b59afd4c0eb25fade694cdb24c_1.json\n",
      "\n",
      "0_6bf71ccc6254498bb6e52e10f45490d8_1.json\n",
      "\n",
      "0_743237a427664f57b35d3bd642572e6d_1.json\n",
      "\n",
      "0_75d343691ca849bdb190d98b11f7edc9_1.json\n",
      "\n",
      "0_8223e703445d414c8f34b45d71a9fe35_1.json\n",
      "\n",
      "0_8d054dcd0a7b487585f77bfee87ff543_1.json\n",
      "\n",
      "0_a48ce3b7dec3442f963db431ff2e4da5_1.json\n",
      "\n",
      "0_bcf7c48af48e4ff0bde2b79cf6606216_1.json\n",
      "\n",
      "0_ddb730a7073646d995d0534ada10ceac_1.json\n",
      "\n",
      "It takes 3.704059600830078 seconds to download 0_ddb730a7073646d995d0534ada10ceac_1.json\n",
      "\n",
      "0_f1e1947720fb4072a8b325428be98a10_1.json\n",
      "\n",
      "Imported 0_36ecfdb7ea4941c2938e3f91a9003ea0_1.json to the database.\n",
      "Imported 0_ddb730a7073646d995d0534ada10ceac_1.json to the database.\n"
     ]
    }
   ],
   "metadata": {}
  },
  {
   "cell_type": "code",
   "execution_count": 15,
   "source": [
    "print((\"Imported %s to database \")%(all_files[0]))"
   ],
   "outputs": [
    {
     "output_type": "stream",
     "name": "stdout",
     "text": [
      "Imported 0_18fc7328361948c0865df2f0c53aa008_1.json to database \n"
     ]
    }
   ],
   "metadata": {}
  },
  {
   "cell_type": "code",
   "execution_count": 16,
   "source": [
    "print(f\"Imported {all_files[0]} to database\")"
   ],
   "outputs": [
    {
     "output_type": "stream",
     "name": "stdout",
     "text": [
      "Imported 0_18fc7328361948c0865df2f0c53aa008_1.json to database\n"
     ]
    }
   ],
   "metadata": {}
  },
  {
   "cell_type": "code",
   "execution_count": 20,
   "source": [],
   "outputs": [
    {
     "output_type": "error",
     "ename": "TypeError",
     "evalue": "name must be an instance of str",
     "traceback": [
      "\u001b[1;31m---------------------------------------------------------------------------\u001b[0m",
      "\u001b[1;31mTypeError\u001b[0m                                 Traceback (most recent call last)",
      "\u001b[1;32m<ipython-input-20-987900e754d2>\u001b[0m in \u001b[0;36m<module>\u001b[1;34m\u001b[0m\n\u001b[1;32m----> 1\u001b[1;33m \u001b[0mdb\u001b[0m\u001b[1;33m[\u001b[0m\u001b[1;36m4\u001b[0m\u001b[1;33m]\u001b[0m\u001b[1;33m\u001b[0m\u001b[1;33m\u001b[0m\u001b[0m\n\u001b[0m",
      "\u001b[1;32mD:\\anaconda3\\lib\\site-packages\\pymongo\\database.py\u001b[0m in \u001b[0;36m__getitem__\u001b[1;34m(self, name)\u001b[0m\n\u001b[0;32m    302\u001b[0m           \u001b[1;33m-\u001b[0m\u001b[0;31m \u001b[0m\u001b[0;31m`\u001b[0m\u001b[0mname\u001b[0m\u001b[0;31m`\u001b[0m\u001b[1;33m:\u001b[0m \u001b[0mthe\u001b[0m \u001b[0mname\u001b[0m \u001b[0mof\u001b[0m \u001b[0mthe\u001b[0m \u001b[0mcollection\u001b[0m \u001b[0mto\u001b[0m \u001b[0mget\u001b[0m\u001b[1;33m\u001b[0m\u001b[1;33m\u001b[0m\u001b[0m\n\u001b[0;32m    303\u001b[0m         \"\"\"\n\u001b[1;32m--> 304\u001b[1;33m         \u001b[1;32mreturn\u001b[0m \u001b[0mCollection\u001b[0m\u001b[1;33m(\u001b[0m\u001b[0mself\u001b[0m\u001b[1;33m,\u001b[0m \u001b[0mname\u001b[0m\u001b[1;33m)\u001b[0m\u001b[1;33m\u001b[0m\u001b[1;33m\u001b[0m\u001b[0m\n\u001b[0m\u001b[0;32m    305\u001b[0m \u001b[1;33m\u001b[0m\u001b[0m\n\u001b[0;32m    306\u001b[0m     def get_collection(self, name, codec_options=None, read_preference=None,\n",
      "\u001b[1;32mD:\\anaconda3\\lib\\site-packages\\pymongo\\collection.py\u001b[0m in \u001b[0;36m__init__\u001b[1;34m(self, database, name, create, codec_options, read_preference, write_concern, read_concern, session, **kwargs)\u001b[0m\n\u001b[0;32m    165\u001b[0m         \u001b[1;32mif\u001b[0m \u001b[1;32mnot\u001b[0m \u001b[0misinstance\u001b[0m\u001b[1;33m(\u001b[0m\u001b[0mname\u001b[0m\u001b[1;33m,\u001b[0m \u001b[0mstring_type\u001b[0m\u001b[1;33m)\u001b[0m\u001b[1;33m:\u001b[0m\u001b[1;33m\u001b[0m\u001b[1;33m\u001b[0m\u001b[0m\n\u001b[0;32m    166\u001b[0m             raise TypeError(\"name must be an instance \"\n\u001b[1;32m--> 167\u001b[1;33m                             \"of %s\" % (string_type.__name__,))\n\u001b[0m\u001b[0;32m    168\u001b[0m \u001b[1;33m\u001b[0m\u001b[0m\n\u001b[0;32m    169\u001b[0m         \u001b[1;32mif\u001b[0m \u001b[1;32mnot\u001b[0m \u001b[0mname\u001b[0m \u001b[1;32mor\u001b[0m \u001b[1;34m\"..\"\u001b[0m \u001b[1;32min\u001b[0m \u001b[0mname\u001b[0m\u001b[1;33m:\u001b[0m\u001b[1;33m\u001b[0m\u001b[1;33m\u001b[0m\u001b[0m\n",
      "\u001b[1;31mTypeError\u001b[0m: name must be an instance of str"
     ]
    }
   ],
   "metadata": {}
  },
  {
   "cell_type": "code",
   "execution_count": 1,
   "source": [
    "import os\r\n",
    "os.environ['AZURE_STORAGE_CONNECTION_STRING'] = \"DefaultEndpointsProtocol=https;AccountName=uaholodecksensorlab;AccountKey=GX+Fn1hVo3RDWRGuCxMAVDVFA/maCM2NdGx4Kffv4tWnG6DU8C1NOVH5Rv694e3HVNCmlinkeAKMgnXBvsr7nA==;EndpointSuffix=core.windows.net\"\r\n",
    "\r\n",
    "STORAGEACCOUNTURL= \"https://uaholodecksensorlab.blob.core.windows.net\"\r\n",
    "STORAGEACCOUNTKEY= \"GX+Fn1hVo3RDWRGuCxMAVDVFA/maCM2NdGx4Kffv4tWnG6DU8C1NOVH5Rv694e3HVNCmlinkeAKMgnXBvsr7nA==\""
   ],
   "outputs": [],
   "metadata": {}
  }
 ],
 "metadata": {
  "orig_nbformat": 4,
  "language_info": {
   "name": "python",
   "version": "3.7.6",
   "mimetype": "text/x-python",
   "codemirror_mode": {
    "name": "ipython",
    "version": 3
   },
   "pygments_lexer": "ipython3",
   "nbconvert_exporter": "python",
   "file_extension": ".py"
  },
  "kernelspec": {
   "name": "python3",
   "display_name": "Python 3.7.6 64-bit ('base': conda)"
  },
  "interpreter": {
   "hash": "7b4b4feff2f24a0f0a34464dbe537a36fda679851528fb8735cb41fa49dffb2d"
  }
 },
 "nbformat": 4,
 "nbformat_minor": 2
}
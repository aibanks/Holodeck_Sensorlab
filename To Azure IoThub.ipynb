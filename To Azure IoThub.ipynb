{
 "cells": [
  {
   "cell_type": "code",
   "execution_count": null,
   "source": [
    "#pip install azure-eventhub"
   ],
   "outputs": [],
   "metadata": {}
  },
  {
   "cell_type": "code",
   "execution_count": null,
   "source": [
    "#pip install azure-eventhub-checkpointstoreblob-aio"
   ],
   "outputs": [],
   "metadata": {}
  },
  {
   "cell_type": "code",
   "execution_count": 6,
   "source": [
    "# Use this just to get responses from E4 to help code development\r\n",
    "\r\n",
    "\r\n",
    "import socket\r\n",
    "import time\r\n",
    "import pylsl\r\n",
    "from datetime import datetime \r\n",
    "import matplotlib.pyplot as plt\r\n",
    "import matplotlib.animation as animation\r\n",
    "from matplotlib.animation import FuncAnimation\r\n",
    "import requests\r\n",
    "import json\r\n",
    "\r\n",
    "from random import randint\r\n",
    "%matplotlib qt\r\n",
    "#%matplotlib inline\r\n",
    "\r\n",
    "# SELECT DATA TO STREAM\r\n",
    "acc = False      # 3-axis acceleration\r\n",
    "bvp = False      # Blood Volume Pulse\r\n",
    "gsr = True      # Galvanic Skin Response (Electrodermal Activity)\r\n",
    "tmp = False      # Temperature\r\n",
    "ibi = False      # Interbeat Interval and Heartbeat\r\n",
    "bat = False      # Device Battery\r\n",
    "tag = False     # Tag taken from the device (by pressing the button)\r\n",
    "\r\n",
    "serverAddress = '127.0.0.1'\r\n",
    "serverPort = 28000\r\n",
    "bufferSize = 4096\r\n",
    "\r\n",
    "deviceID = 'CDCB11' # 'A03003'\r\n",
    "\r\n",
    "def connect():\r\n",
    "    global s\r\n",
    "    s = socket.socket(socket.AF_INET, socket.SOCK_STREAM)\r\n",
    "    s.settimeout(3)\r\n",
    "\r\n",
    "    print(\"Connecting to server\")\r\n",
    "    s.connect((serverAddress, serverPort))\r\n",
    "    print(\"Connected to server\\n\")\r\n",
    "\r\n",
    "    print(\"Devices available:\")\r\n",
    "    s.send(\"device_list\\r\\n\".encode())\r\n",
    "    response = s.recv(bufferSize)\r\n",
    "    print(response.decode(\"utf-8\"))\r\n",
    "\r\n",
    "    print(\"Connecting to device\")\r\n",
    "    s.send((\"device_connect \" + deviceID + \"\\r\\n\").encode())\r\n",
    "    response = s.recv(bufferSize)\r\n",
    "    print(response.decode(\"utf-8\"))\r\n",
    "\r\n",
    "    print(\"Pausing data receiving\")\r\n",
    "    s.send(\"pause ON\\r\\n\".encode())\r\n",
    "    response = s.recv(bufferSize)\r\n",
    "    print(response.decode(\"utf-8\"))\r\n",
    "connect()\r\n",
    "\r\n",
    "time.sleep(1)\r\n",
    "\r\n",
    "def suscribe_to_data():\r\n",
    "    if acc:\r\n",
    "        print(\"Suscribing to ACC\")\r\n",
    "        s.send((\"device_subscribe \" + 'acc' + \" ON\\r\\n\").encode())\r\n",
    "        response = s.recv(bufferSize)\r\n",
    "        print(response.decode(\"utf-8\"))\r\n",
    "    if bvp:\r\n",
    "        print(\"Suscribing to BVP\")\r\n",
    "        s.send((\"device_subscribe \" + 'bvp' + \" ON\\r\\n\").encode())\r\n",
    "        response = s.recv(bufferSize)\r\n",
    "        print(response.decode(\"utf-8\"))\r\n",
    "    if gsr:\r\n",
    "        print(\"Suscribing to GSR\")\r\n",
    "        s.send((\"device_subscribe \" + 'gsr' + \" ON\\r\\n\").encode())\r\n",
    "        response = s.recv(bufferSize)\r\n",
    "        print(response.decode(\"utf-8\"))\r\n",
    "    if tmp:\r\n",
    "        print(\"Suscribing to Temp\")\r\n",
    "        s.send((\"device_subscribe \" + 'tmp' + \" ON\\r\\n\").encode())\r\n",
    "        response = s.recv(bufferSize)\r\n",
    "        print(response.decode(\"utf-8\"))\r\n",
    "    if ibi:\r\n",
    "        print(\"Suscribing to IBI\")\r\n",
    "        s.send((\"device_subscribe \" + 'ibi' + \" ON\\r\\n\").encode())\r\n",
    "        response = s.recv(bufferSize)\r\n",
    "        print(response.decode(\"utf-8\"))\r\n",
    "    if bat:\r\n",
    "        print(\"Suscribing to Batt\")\r\n",
    "        s.send((\"device_subscribe \" + 'bat' + \" ON\\r\\n\").encode())\r\n",
    "        response = s.recv(bufferSize)\r\n",
    "        print(response.decode(\"utf-8\"))\r\n",
    "    if tag:\r\n",
    "        print(\"Suscribing to Tag\")\r\n",
    "        s.send((\"device_subscribe \" + 'tag' + \" ON\\r\\n\").encode())\r\n",
    "        response = s.recv(bufferSize)\r\n",
    "        print(response.decode(\"utf-8\"))\r\n",
    "\r\n",
    "    print(\"Resuming data receiving\")\r\n",
    "    s.send(\"pause OFF\\r\\n\".encode())\r\n",
    "    response = s.recv(bufferSize)\r\n",
    "    print(response.decode(\"utf-8\"))\r\n",
    "suscribe_to_data()\r\n",
    "\r\n",
    "time.sleep(1)\r\n",
    "\r\n",
    "def reconnect():\r\n",
    "    print(\"Reconnecting...\")\r\n",
    "    connect()\r\n",
    "    suscribe_to_data()\r\n",
    "    #stream()\r\n",
    "\r\n",
    "def disconnect():\r\n",
    "    s.send(\"device_disconnect\\r\\n\".encode())\r\n",
    "\r\n",
    "#global bvp_timestamp\r\n",
    "bvp_timestamp = []\r\n",
    "#global bvp_data\r\n",
    "bvp_data = []\r\n",
    "temp_timestamp = []\r\n",
    "temp_data = []\r\n",
    "acc_timestamp = []\r\n",
    "acc_data = []\r\n",
    "gsr_timestamp = []\r\n",
    "gsr_data = []\r\n",
    "#ibi_timestamp = []\r\n",
    "#ibi_data = []\r\n",
    "\r\n",
    "\r\n",
    "while True:\r\n",
    "    response = s.recv(bufferSize).decode(\"utf-8\")\r\n",
    "    print(response)\r\n",
    "    if \"connection lost to device\" in response:\r\n",
    "        print(response.decode(\"utf-8\"))\r\n",
    "        reconnect()\r\n",
    "    samples = response.split(\"\\n\")\r\n",
    "    for i in range(len(samples)-1):\r\n",
    "        stream_type = samples[i].split()[0]\r\n",
    "        if stream_type == \"E4_Bvp\":\r\n",
    "            bvp_new_timestamp = float(samples[i].split()[1].replace(',','.'))\r\n",
    "            bvp_new_data = float(samples[i].split()[2].replace(',','.'))\r\n",
    "            bvp_timestamp.append(bvp_new_timestamp)\r\n",
    "            bvp_data.append(bvp_new_data)                       \r\n",
    "        if stream_type == \"E4_Temperature\":\r\n",
    "            temp_new_timestamp = float(samples[i].split()[1].replace(',','.'))\r\n",
    "            temp_new_data = float(samples[i].split()[2].replace(',','.'))\r\n",
    "            temp_timestamp.append(temp_new_timestamp)\r\n",
    "            temp_data.append(temp_new_data)\r\n",
    "        if stream_type == \"E4_Acc\":\r\n",
    "            timestamp = float(samples[i].split()[1].replace(',','.'))\r\n",
    "            data = [int(samples[i].split()[2].replace(',','.')), int(samples[i].split()[3].replace(',','.')), int(samples[i].split()[4].replace(',','.'))]\r\n",
    "            acc_timestamp.append(timestamp)\r\n",
    "            acc_data.append(data)\r\n",
    "        if stream_type == \"E4_Gsr\":\r\n",
    "            timestamp = float(samples[i].split()[1].replace(',','.'))\r\n",
    "            data = float(samples[i].split()[2].replace(',','.'))\r\n",
    "            gsr_timestamp.append(timestamp)\r\n",
    "            gsr_data.append(data)\r\n",
    "        if stream_type == \"E4_Ibi\":\r\n",
    "            timestamp = float(samples[i].split()[1].replace(',','.'))\r\n",
    "            data = float(samples[i].split()[2].replace(',','.'))\r\n",
    "            #ibi_timestamp.append(timestamp)\r\n",
    "            #ibi_data.append(data)\r\n",
    "            outletIBI.push_sample([data], timestamp=timestamp)\r\n",
    "        if stream_type == \"E4_Tag\":\r\n",
    "            timestamp = float(samples[i].split()[1].replace(',','.'))\r\n",
    "            data = float(samples[i].split()[2].replace(',','.'))\r\n",
    "            outletTag.push_sample([data], timestamp=timestamp)\r\n",
    "        if stream_type == \"E4_Battery\":\r\n",
    "            timestamp = float(samples[i].split()[1].replace(',','.'))\r\n",
    "            data = float(samples[i].split()[2].replace(',','.'))\r\n",
    "            outletBatt.push_sample([data], timestamp=timestamp)\r\n",
    "    \r\n",
    "\"\"\"     myurl = \"https://api.powerbi.com/beta/5ee35505-eb8e-4929-937d-645df5013288/datasets/50ad263b-54e0-44ba-93e7-b00cbc39f84d/rows?key=vO%2BdZoHdf6qaU5fg86ZXyj8H%2B4sGYbjCaU6CIvKh8kdC7hnu24Rp38n7785Cvjr4ldnLMGUjL9WuMsZH0CfDsw%3D%3D\"\r\n",
    "    #date = datetime.now().strftime(\"%Y-%m-%dT%H:%M:%S\")\r\n",
    "    data = []\r\n",
    "\r\n",
    "    for i in range(len(temp_data)):\r\n",
    "        t = {\r\n",
    "            \"temp_datetime\": datetime.fromtimestamp(temp_timestamp[i]).strftime(\"%Y-%m-%dT%H:%M:%S\"),\r\n",
    "            \"temp_data\": temp_data[i]}\r\n",
    "        data.append(t)\r\n",
    "\r\n",
    "    \r\n",
    "    r = requests.post(myurl, json.dumps(data))\r\n",
    "    print(r.status_code)\r\n",
    "    temp_timestamp = []\r\n",
    "    temp_data = []\r\n",
    "    bvp_timestamp = []\r\n",
    "    bvp_data = [] \"\"\"\r\n"
   ],
   "outputs": [
    {
     "output_type": "stream",
     "name": "stdout",
     "text": [
      "Connecting to server\n",
      "Connected to server\n",
      "\n",
      "Devices available:\n",
      "R device_list 1 | CDCB11 Empatica_E4 \n",
      "\n",
      "Connecting to device\n",
      "R device_connect OK\n",
      "\n",
      "Pausing data receiving\n",
      "R pause ON\n",
      "\n",
      "Suscribing to GSR\n",
      "R device_subscribe gsr OK\n",
      "\n",
      "Resuming data receiving\n",
      "R pause OFF\n",
      "\n",
      "E4_Gsr 1627402697.3 0.1999478\n",
      "\n",
      "E4_Gsr 1627402697.55 0.1973844\n",
      "E4_Gsr 1627402697.8 0.1999478\n",
      "E4_Gsr 1627402698.05 0.1986661\n",
      "E4_Gsr 1627402698.3 0.1999478\n",
      "\n",
      "E4_Gsr 1627402698.55 0.1973844\n",
      "\n",
      "E4_Gsr 1627402698.8 0.1973844\n",
      "\n",
      "E4_Gsr 1627402699.05 0.1973844\n",
      "E4_Gsr 1627402699.3 0.2012296\n",
      "E4_Gsr 1627402699.55 0.1999478\n",
      "E4_Gsr 1627402699.8 0.1986661\n",
      "E4_Gsr 1627402700.05 0.1999478\n",
      "\n",
      "E4_Gsr 1627402700.3 0.1986661\n",
      "E4_Gsr 1627402700.55 0.1999478\n",
      "\n",
      "E4_Gsr 1627402700.8 0.1961027\n",
      "E4_Gsr 1627402701.05 0.1999478\n",
      "E4_Gsr 1627402701.3 0.1961027\n",
      "E4_Gsr 1627402701.55 0.1986661\n",
      "\n",
      "E4_Gsr 1627402701.8 0.1961027\n",
      "E4_Gsr 1627402702.05 0.1999478\n",
      "\n",
      "E4_Gsr 1627402702.3 0.1973844\n",
      "E4_Gsr 1627402702.55 0.1999478\n",
      "E4_Gsr 1627402702.8 0.1999478\n",
      "E4_Gsr 1627402703.05 0.2025113\n",
      "\n",
      "E4_Gsr 1627402703.3 0.1999478\n",
      "\n",
      "E4_Gsr 1627402703.55 0.2012296\n",
      "E4_Gsr 1627402703.8 0.1999478\n",
      "E4_Gsr 1627402704.05 0.2025113\n",
      "E4_Gsr 1627402704.3 0.1999478\n",
      "E4_Gsr 1627402704.55 0.1973844\n",
      "\n"
     ]
    },
    {
     "output_type": "error",
     "ename": "KeyboardInterrupt",
     "evalue": "",
     "traceback": [
      "\u001b[1;31m---------------------------------------------------------------------------\u001b[0m",
      "\u001b[1;31mKeyboardInterrupt\u001b[0m                         Traceback (most recent call last)",
      "\u001b[1;32m<ipython-input-6-7f7b25f9dcee>\u001b[0m in \u001b[0;36m<module>\u001b[1;34m\u001b[0m\n\u001b[0;32m    127\u001b[0m \u001b[1;33m\u001b[0m\u001b[0m\n\u001b[0;32m    128\u001b[0m \u001b[1;32mwhile\u001b[0m \u001b[1;32mTrue\u001b[0m\u001b[1;33m:\u001b[0m\u001b[1;33m\u001b[0m\u001b[1;33m\u001b[0m\u001b[0m\n\u001b[1;32m--> 129\u001b[1;33m     \u001b[0mresponse\u001b[0m \u001b[1;33m=\u001b[0m \u001b[0ms\u001b[0m\u001b[1;33m.\u001b[0m\u001b[0mrecv\u001b[0m\u001b[1;33m(\u001b[0m\u001b[0mbufferSize\u001b[0m\u001b[1;33m)\u001b[0m\u001b[1;33m.\u001b[0m\u001b[0mdecode\u001b[0m\u001b[1;33m(\u001b[0m\u001b[1;34m\"utf-8\"\u001b[0m\u001b[1;33m)\u001b[0m\u001b[1;33m\u001b[0m\u001b[1;33m\u001b[0m\u001b[0m\n\u001b[0m\u001b[0;32m    130\u001b[0m     \u001b[0mprint\u001b[0m\u001b[1;33m(\u001b[0m\u001b[0mresponse\u001b[0m\u001b[1;33m)\u001b[0m\u001b[1;33m\u001b[0m\u001b[1;33m\u001b[0m\u001b[0m\n\u001b[0;32m    131\u001b[0m     \u001b[1;32mif\u001b[0m \u001b[1;34m\"connection lost to device\"\u001b[0m \u001b[1;32min\u001b[0m \u001b[0mresponse\u001b[0m\u001b[1;33m:\u001b[0m\u001b[1;33m\u001b[0m\u001b[1;33m\u001b[0m\u001b[0m\n",
      "\u001b[1;31mKeyboardInterrupt\u001b[0m: "
     ]
    }
   ],
   "metadata": {}
  },
  {
   "cell_type": "code",
   "execution_count": 7,
   "source": [
    "disconnect()"
   ],
   "outputs": [],
   "metadata": {}
  },
  {
   "cell_type": "code",
   "execution_count": 2,
   "source": [
    "response"
   ],
   "outputs": [
    {
     "output_type": "execute_result",
     "data": {
      "text/plain": [
       "'E4_Acc 1627401517.44458 -50 3 39\\r\\nE4_Acc 1627401517.47583 -50 3 39\\r\\nE4_Acc 1627401517.50708 -50 3 39\\r\\nE4_Acc 1627401517.53833 -50 3 39\\r\\nE4_Acc 1627401517.56958 -50 3 39\\r\\n'"
      ]
     },
     "metadata": {},
     "execution_count": 2
    }
   ],
   "metadata": {}
  },
  {
   "cell_type": "code",
   "execution_count": 57,
   "source": [
    "float(response.split(\"\\r\\n\")[0].split()[1])#.replace(',','.'))"
   ],
   "outputs": [
    {
     "output_type": "execute_result",
     "data": {
      "text/plain": [
       "1627312270.86939"
      ]
     },
     "metadata": {},
     "execution_count": 57
    }
   ],
   "metadata": {}
  },
  {
   "cell_type": "code",
   "execution_count": 58,
   "source": [
    "datetime.fromtimestamp(float(response.split(\"\\r\\n\")[0].split()[1])).strftime(\"%Y-%m-%dT%H:%M:%S\")"
   ],
   "outputs": [
    {
     "output_type": "execute_result",
     "data": {
      "text/plain": [
       "'2021-07-26T08:11:10'"
      ]
     },
     "metadata": {},
     "execution_count": 58
    }
   ],
   "metadata": {}
  },
  {
   "cell_type": "code",
   "execution_count": 64,
   "source": [
    "##  Old, need to revise so that each sample is added to the batch one by one\r\n",
    "\r\n",
    "def convert_to_json(response):\r\n",
    "    response_json = []\r\n",
    "    samples = response.split(\"\\r\\n\")\r\n",
    "    for i in range(len(samples)-1):\r\n",
    "        stream_type = samples[i].split()[0]\r\n",
    "        new_timestamp = datetime.fromtimestamp(float(response.split(\"\\r\\n\")[0].split()[1])).strftime(\"%Y-%m-%dT%H:%M:%S\")\r\n",
    "        new_data = samples[i].split()[2]\r\n",
    "        \r\n",
    "        new_json = {\r\n",
    "            stream_type : new_data,\r\n",
    "            \"dateTime\" : new_timestamp\r\n",
    "        }\r\n",
    "\r\n",
    "        response_json.append(new_json)\r\n",
    "    response_json = json.dumps(response_json)    \r\n",
    "    return(response_json)\r\n",
    "       "
   ],
   "outputs": [],
   "metadata": {}
  },
  {
   "cell_type": "code",
   "execution_count": 20,
   "source": [
    "#updated from above\r\n",
    "\r\n",
    "\r\n",
    "def convert_to_json(sample):\r\n",
    "    \r\n",
    "    stream_type = sample.split()[0]\r\n",
    "    new_timestamp = datetime.fromtimestamp(float(sample.split()[1])).strftime(\"%Y-%m-%dT%H:%M:%S\")\r\n",
    "    new_data = sample.split()[2]\r\n",
    "    \r\n",
    "    sample_json = {\r\n",
    "        stream_type : new_data,\r\n",
    "        \"dateTime\" : new_timestamp\r\n",
    "    }\r\n",
    "\r\n",
    "    return(sample_json)\r\n",
    "\r\n",
    "\r\n",
    "response = 'E4_Bvp 1627312270.86939 0.3150177\\r\\nE4_Bvp 1627312270.88502 0.4125137\\r\\nE4_Bvp 1627312270.90064 0.3905487\\r\\nE4_Bvp 1627312270.91627 0.3139725\\r\\nE4_Bvp 1627312270.9319 0.2639999\\r\\nE4_Bvp 1627312270.94752 0.2732544\\r\\nE4_Bvp 1627312270.96315 0.3248367\\r\\n'\r\n",
    "\r\n",
    "\r\n",
    "samples = response.split(\"\\r\\n\")\r\n",
    "for i in range(len(samples)-1):\r\n",
    "    sample_json = convert_to_json(samples[i])\r\n",
    "    print(sample_json)\r\n",
    "    #event_data_batch.add(EventData(sample_json))\r\n"
   ],
   "outputs": [
    {
     "output_type": "stream",
     "name": "stdout",
     "text": [
      "{'E4_Bvp': '0.3150177', 'dateTime': '2021-07-26T08:11:10'}\n",
      "{'E4_Bvp': '0.4125137', 'dateTime': '2021-07-26T08:11:10'}\n",
      "{'E4_Bvp': '0.3905487', 'dateTime': '2021-07-26T08:11:10'}\n",
      "{'E4_Bvp': '0.3139725', 'dateTime': '2021-07-26T08:11:10'}\n",
      "{'E4_Bvp': '0.2639999', 'dateTime': '2021-07-26T08:11:10'}\n",
      "{'E4_Bvp': '0.2732544', 'dateTime': '2021-07-26T08:11:10'}\n",
      "{'E4_Bvp': '0.3248367', 'dateTime': '2021-07-26T08:11:10'}\n"
     ]
    }
   ],
   "metadata": {}
  },
  {
   "cell_type": "code",
   "execution_count": 5,
   "source": [
    "#additional update from above, to account for ACC which has three data points (x,y,z)\r\n",
    "import json\r\n",
    "\r\n",
    "def convert_to_json(sample):\r\n",
    "    stream_type = sample.split()[0]\r\n",
    "    if stream_type == \"E4_Acc\":\r\n",
    "        new_timestamp = float(samples[i].split()[1].replace(',','.'))\r\n",
    "        new_data = [int(samples[i].split()[2].replace(',','.')), int(samples[i].split()[3].replace(',','.')), int(samples[i].split()[4].replace(',','.'))]\r\n",
    "        sample_json = {\"E4_Acc_x\" : new_data[0], \"E4_Acc_y\" : new_data[1], \"E4_Acc_z\" : new_data[2], \"dateTime\" : new_timestamp}\r\n",
    "        sample_json = json.dumps(sample_json)\r\n",
    "    else:\r\n",
    "        new_timestamp = datetime.fromtimestamp(float(sample.split()[1])).strftime(\"%Y-%m-%dT%H:%M:%S\")\r\n",
    "        new_data = sample.split()[2]\r\n",
    "        sample_json = {stream_type : new_data, \"dateTime\" : new_timestamp}\r\n",
    "        sample_json = json.dumps(sample_json)\r\n",
    "    return(sample_json)\r\n",
    "\r\n",
    "response = 'E4_Acc 1627401517.44458 -50 3 39\\r\\nE4_Acc 1627401517.47583 -50 3 39\\r\\nE4_Acc 1627401517.50708 -50 3 39\\r\\nE4_Acc 1627401517.53833 -50 3 39\\r\\nE4_Acc 1627401517.56958 -50 3 39\\r\\n'\r\n",
    "samples = response.split(\"\\r\\n\")\r\n",
    "for i in range(len(samples)-1):\r\n",
    "    sample_json = convert_to_json(samples[i])\r\n",
    "    print(sample_json)"
   ],
   "outputs": [
    {
     "output_type": "stream",
     "name": "stdout",
     "text": [
      "{\"E4_Acc_x\": -50, \"E4_Acc_y\": 3, \"E4_Acc_z\": 39, \"dateTime\": 1627401517.44458}\n",
      "{\"E4_Acc_x\": -50, \"E4_Acc_y\": 3, \"E4_Acc_z\": 39, \"dateTime\": 1627401517.47583}\n",
      "{\"E4_Acc_x\": -50, \"E4_Acc_y\": 3, \"E4_Acc_z\": 39, \"dateTime\": 1627401517.50708}\n",
      "{\"E4_Acc_x\": -50, \"E4_Acc_y\": 3, \"E4_Acc_z\": 39, \"dateTime\": 1627401517.53833}\n",
      "{\"E4_Acc_x\": -50, \"E4_Acc_y\": 3, \"E4_Acc_z\": 39, \"dateTime\": 1627401517.56958}\n"
     ]
    }
   ],
   "metadata": {}
  },
  {
   "cell_type": "markdown",
   "source": [
    "# Code chunk below pushes live E4 data to Azure"
   ],
   "metadata": {}
  },
  {
   "cell_type": "code",
   "execution_count": null,
   "source": [
    "## Successful at to recieve data from E4 and simultaneously push it to Azure\r\n",
    "\r\n",
    "import socket\r\n",
    "import time\r\n",
    "import pylsl\r\n",
    "from datetime import datetime \r\n",
    "import matplotlib.pyplot as plt\r\n",
    "import matplotlib.animation as animation\r\n",
    "from matplotlib.animation import FuncAnimation\r\n",
    "import requests\r\n",
    "import json\r\n",
    "from azure.eventhub import EventHubProducerClient, EventData\r\n",
    "import os\r\n",
    "import time\r\n",
    "\r\n",
    "from random import randint\r\n",
    "%matplotlib qt\r\n",
    "#%matplotlib inline\r\n",
    "\r\n",
    "session_ID = \"tb_\" + str(time.time())\r\n",
    "participant = \"Tony Banks\"\r\n",
    "participant_ID = \"001\"\r\n",
    "\r\n",
    "# SELECT DATA TO STREAM\r\n",
    "acc = True      # 3-axis acceleration\r\n",
    "bvp = True     # Blood Volume Pulse\r\n",
    "gsr = True      # Galvanic Skin Response (Electrodermal Activity)\r\n",
    "tmp = True      # Temperature\r\n",
    "ibi = True      # Interbeat Interval and Heartbeat\r\n",
    "bat = False      # Device Battery\r\n",
    "tag = False     # Tag taken from the device (by pressing the button)\r\n",
    "\r\n",
    "serverAddress = '127.0.0.1'\r\n",
    "serverPort = 28000\r\n",
    "bufferSize = 4096\r\n",
    "\r\n",
    "deviceID = 'CDCB11' # 'A03003'\r\n",
    "\r\n",
    "def connect():\r\n",
    "    global s\r\n",
    "    s = socket.socket(socket.AF_INET, socket.SOCK_STREAM)\r\n",
    "    s.settimeout(3)\r\n",
    "\r\n",
    "    print(\"Connecting to server\")\r\n",
    "    s.connect((serverAddress, serverPort))\r\n",
    "    print(\"Connected to server\\n\")\r\n",
    "\r\n",
    "    print(\"Devices available:\")\r\n",
    "    s.send(\"device_list\\r\\n\".encode())\r\n",
    "    response = s.recv(bufferSize)\r\n",
    "    print(response.decode(\"utf-8\"))\r\n",
    "\r\n",
    "    print(\"Connecting to device\")\r\n",
    "    s.send((\"device_connect \" + deviceID + \"\\r\\n\").encode())\r\n",
    "    response = s.recv(bufferSize)\r\n",
    "    print(response.decode(\"utf-8\"))\r\n",
    "\r\n",
    "    print(\"Pausing data receiving\")\r\n",
    "    s.send(\"pause ON\\r\\n\".encode())\r\n",
    "    response = s.recv(bufferSize)\r\n",
    "    print(response.decode(\"utf-8\"))\r\n",
    "connect()\r\n",
    "\r\n",
    "time.sleep(1)\r\n",
    "\r\n",
    "def suscribe_to_data():\r\n",
    "    if acc:\r\n",
    "        print(\"Suscribing to ACC\")\r\n",
    "        s.send((\"device_subscribe \" + 'acc' + \" ON\\r\\n\").encode())\r\n",
    "        response = s.recv(bufferSize)\r\n",
    "        print(response.decode(\"utf-8\"))\r\n",
    "    if bvp:\r\n",
    "        print(\"Suscribing to BVP\")\r\n",
    "        s.send((\"device_subscribe \" + 'bvp' + \" ON\\r\\n\").encode())\r\n",
    "        response = s.recv(bufferSize)\r\n",
    "        print(response.decode(\"utf-8\"))\r\n",
    "    if gsr:\r\n",
    "        print(\"Suscribing to GSR\")\r\n",
    "        s.send((\"device_subscribe \" + 'gsr' + \" ON\\r\\n\").encode())\r\n",
    "        response = s.recv(bufferSize)\r\n",
    "        print(response.decode(\"utf-8\"))\r\n",
    "    if tmp:\r\n",
    "        print(\"Suscribing to Temp\")\r\n",
    "        s.send((\"device_subscribe \" + 'tmp' + \" ON\\r\\n\").encode())\r\n",
    "        response = s.recv(bufferSize)\r\n",
    "        print(response.decode(\"utf-8\"))\r\n",
    "    if ibi:\r\n",
    "        print(\"Suscribing to IBI\")\r\n",
    "        s.send((\"device_subscribe \" + 'ibi' + \" ON\\r\\n\").encode())\r\n",
    "        response = s.recv(bufferSize)\r\n",
    "        print(response.decode(\"utf-8\"))\r\n",
    "    if bat:\r\n",
    "        print(\"Suscribing to Batt\")\r\n",
    "        s.send((\"device_subscribe \" + 'bat' + \" ON\\r\\n\").encode())\r\n",
    "        response = s.recv(bufferSize)\r\n",
    "        print(response.decode(\"utf-8\"))\r\n",
    "    if tag:\r\n",
    "        print(\"Suscribing to Tag\")\r\n",
    "        s.send((\"device_subscribe \" + 'tag' + \" ON\\r\\n\").encode())\r\n",
    "        response = s.recv(bufferSize)\r\n",
    "        print(response.decode(\"utf-8\"))\r\n",
    "\r\n",
    "    print(\"Resuming data receiving\")\r\n",
    "    s.send(\"pause OFF\\r\\n\".encode())\r\n",
    "    response = s.recv(bufferSize)\r\n",
    "    print(response.decode(\"utf-8\"))\r\n",
    "suscribe_to_data()\r\n",
    "\r\n",
    "time.sleep(1)\r\n",
    "\r\n",
    "def reconnect():\r\n",
    "    print(\"Reconnecting...\")\r\n",
    "    connect()\r\n",
    "    suscribe_to_data()\r\n",
    "    #stream()\r\n",
    "\r\n",
    "def disconnect():\r\n",
    "    s.send(\"device_disconnect\\r\\n\".encode())\r\n",
    "\r\n",
    "def convert_to_json(sample):\r\n",
    "    stream_type = sample.split()[0]\r\n",
    "    if stream_type == \"E4_Acc\":\r\n",
    "        new_timestamp = datetime.fromtimestamp(float(sample.split()[1])).strftime(\"%Y-%m-%dT%H:%M:%S\")\r\n",
    "        new_data = [int(samples[i].split()[2].replace(',','.')), int(samples[i].split()[3].replace(',','.')), int(samples[i].split()[4].replace(',','.'))]\r\n",
    "        sample_jsonX = {\"stream_type\" : \"E4_Acc_X\", \"Value\" : new_data[0], \"dateTime\" : new_timestamp, \"Session_ID\" : session_ID, \"Participant\" : participant, \"Participant_ID\" : participant_ID}\r\n",
    "        sample_jsonY = {\"stream_type\" : \"E4_Acc_Y\", \"Value\" : new_data[1], \"dateTime\" : new_timestamp, \"Session_ID\" : session_ID, \"Participant\" : participant, \"Participant_ID\" : participant_ID}\r\n",
    "        sample_jsonZ = {\"stream_type\" : \"E4_Acc_Z\", \"Value\" : new_data[2], \"dateTime\" : new_timestamp, \"Session_ID\" : session_ID, \"Participant\" : participant, \"Participant_ID\" : participant_ID}\r\n",
    "        sample_jsons = [sample_jsonX, sample_jsonY, sample_jsonZ]\r\n",
    "        sample_json = json.dumps(sample_json)    #might have issues from trying to batch more than 1 json at a time later in the code\r\n",
    "    else:\r\n",
    "        new_timestamp = datetime.fromtimestamp(float(sample.split()[1])).strftime(\"%Y-%m-%dT%H:%M:%S\")\r\n",
    "        new_data = sample.split()[2]\r\n",
    "        sample_json = {\"stream_type\" : stream_type, \"Value\" : new_data, \"dateTime\" : new_timestamp, \"Session_ID\" : session_ID, \"Participant\" : participant, \"Participant_ID\" : participant_ID}\r\n",
    "        sample_json = json.dumps(sample_json)\r\n",
    "    return(sample_json)\r\n",
    "\r\n",
    "eventhub_name = 'eventhub'\r\n",
    "client = EventHubProducerClient.from_connection_string(os.environ.get('CONNECTION_STRING'), eventhub_name=eventhub_name)\r\n",
    "\r\n",
    "try:\r\n",
    "    while True:\r\n",
    "        response = s.recv(bufferSize).decode(\"utf-8\")\r\n",
    "        #print(response)\r\n",
    "        if \"connection lost to device\" in response:\r\n",
    "            print(response.decode(\"utf-8\"))\r\n",
    "            reconnect()\r\n",
    "        event_data_batch = client.create_batch()\r\n",
    "        samples = response.split(\"\\r\\n\")\r\n",
    "        for i in range(len(samples)-1):\r\n",
    "            sample_json = convert_to_json(samples[i])\r\n",
    "            print(sample_json)\r\n",
    "            event_data_batch.add(EventData(sample_json))\r\n",
    "        client.send_batch(event_data_batch)\r\n",
    "except KeyboardInterrupt:\r\n",
    "    print('interrupted!')\r\n",
    "    disconnect()\r\n",
    "\r\n"
   ],
   "outputs": [],
   "metadata": {}
  },
  {
   "cell_type": "code",
   "execution_count": 6,
   "source": [
    "samples = [{\"E4_Acc_x\": -4, \"E4_Acc_y\": 2, \"E4_Acc_z\": 64, \"ACC_dateTime\": \"2021-07-27T10:17:09\", \"Session_ID\": \"tb_1627406228.917435\", \"Participant\": \"Tony Banks\", \"Participant_ID\": \"001\"},{\"E4_Acc_x\": -4, \"E4_Acc_y\": 3, \"E4_Acc_z\": 64, \"ACC_dateTime\": \"2021-07-27T10:17:10\", \"Session_ID\": \"tb_1627406228.917435\", \"Participant\": \"Tony Banks\", \"Participant_ID\": \"001\"},{\"E4_Acc_x\": -4, \"E4_Acc_y\": 3, \"E4_Acc_z\": 64, \"ACC_dateTime\": \"2021-07-27T10:17:10\", \"Session_ID\": \"tb_1627406228.917435\", \"Participant\": \"Tony Banks\", \"Participant_ID\": \"001\"}]"
   ],
   "outputs": [],
   "metadata": {}
  },
  {
   "cell_type": "code",
   "execution_count": 7,
   "source": [
    "import json\r\n",
    "\r\n",
    "json.dumps(samples)"
   ],
   "outputs": [
    {
     "output_type": "execute_result",
     "data": {
      "text/plain": [
       "'[{\"E4_Acc_x\": -4, \"E4_Acc_y\": 2, \"E4_Acc_z\": 64, \"ACC_dateTime\": \"2021-07-27T10:17:09\", \"Session_ID\": \"tb_1627406228.917435\", \"Participant\": \"Tony Banks\", \"Participant_ID\": \"001\"}, {\"E4_Acc_x\": -4, \"E4_Acc_y\": 3, \"E4_Acc_z\": 64, \"ACC_dateTime\": \"2021-07-27T10:17:10\", \"Session_ID\": \"tb_1627406228.917435\", \"Participant\": \"Tony Banks\", \"Participant_ID\": \"001\"}, {\"E4_Acc_x\": -4, \"E4_Acc_y\": 3, \"E4_Acc_z\": 64, \"ACC_dateTime\": \"2021-07-27T10:17:10\", \"Session_ID\": \"tb_1627406228.917435\", \"Participant\": \"Tony Banks\", \"Participant_ID\": \"001\"}]'"
      ]
     },
     "metadata": {},
     "execution_count": 7
    }
   ],
   "metadata": {}
  },
  {
   "cell_type": "code",
   "execution_count": 8,
   "source": [
    "import time\r\n",
    "\r\n",
    "\"tb_\" + str(time.time())"
   ],
   "outputs": [
    {
     "output_type": "execute_result",
     "data": {
      "text/plain": [
       "'tb_1627405727.2363806'"
      ]
     },
     "metadata": {},
     "execution_count": 8
    }
   ],
   "metadata": {}
  },
  {
   "cell_type": "code",
   "execution_count": 25,
   "source": [
    "##  Sucessfully sending one batch containing JSON of all info from a single \"response\" from E4\r\n",
    "from datetime import datetime \r\n",
    "import json\r\n",
    "from azure.eventhub import EventHubProducerClient, EventData\r\n",
    "import os\r\n",
    "\r\n",
    "\r\n",
    "response = 'E4_Bvp 1627312270.86939 0.3150177\\r\\nE4_Bvp 1627312270.88502 0.4125137\\r\\nE4_Bvp 1627312270.90064 0.3905487\\r\\nE4_Bvp 1627312270.91627 0.3139725\\r\\nE4_Bvp 1627312270.9319 0.2639999\\r\\nE4_Bvp 1627312270.94752 0.2732544\\r\\nE4_Bvp 1627312270.96315 0.3248367\\r\\n'\r\n",
    "\r\n",
    "def convert_to_json(sample):\r\n",
    "    \r\n",
    "    stream_type = sample.split()[0]\r\n",
    "    new_timestamp = datetime.fromtimestamp(float(sample.split()[1])).strftime(\"%Y-%m-%dT%H:%M:%S\")\r\n",
    "    new_data = sample.split()[2]\r\n",
    "    \r\n",
    "    sample_json = {\r\n",
    "        stream_type : new_data,\r\n",
    "        \"dateTime\" : new_timestamp\r\n",
    "    }\r\n",
    "    sample_json = json.dumps(sample_json)\r\n",
    "    return(sample_json)\r\n",
    "\r\n",
    "from azure.eventhub import EventHubProducerClient, EventData\r\n",
    "\r\n",
    "eventhub_name = 'eventhub'\r\n",
    "client = EventHubProducerClient.from_connection_string(os.environ.get('CONNECTION_STRING'), eventhub_name=eventhub_name)\r\n",
    "\r\n",
    "event_data_batch = client.create_batch()\r\n",
    "\r\n",
    "samples = response.split(\"\\r\\n\")\r\n",
    "\r\n",
    "for i in range(len(samples)-1):\r\n",
    "    sample_json = convert_to_json(samples[i])\r\n",
    "    print(sample_json)\r\n",
    "    event_data_batch.add(EventData(sample_json))\r\n",
    "\r\n",
    "\r\n",
    "client.send_batch(event_data_batch)\r\n"
   ],
   "outputs": [
    {
     "output_type": "stream",
     "name": "stdout",
     "text": [
      "{\"E4_Bvp\": \"0.3150177\", \"dateTime\": \"2021-07-26T08:11:10\"}\n",
      "{\"E4_Bvp\": \"0.4125137\", \"dateTime\": \"2021-07-26T08:11:10\"}\n",
      "{\"E4_Bvp\": \"0.3905487\", \"dateTime\": \"2021-07-26T08:11:10\"}\n",
      "{\"E4_Bvp\": \"0.3139725\", \"dateTime\": \"2021-07-26T08:11:10\"}\n",
      "{\"E4_Bvp\": \"0.2639999\", \"dateTime\": \"2021-07-26T08:11:10\"}\n",
      "{\"E4_Bvp\": \"0.2732544\", \"dateTime\": \"2021-07-26T08:11:10\"}\n",
      "{\"E4_Bvp\": \"0.3248367\", \"dateTime\": \"2021-07-26T08:11:10\"}\n"
     ]
    }
   ],
   "metadata": {}
  },
  {
   "cell_type": "code",
   "execution_count": 26,
   "source": [
    "samples = response.split(\"\\r\\n\")\r\n",
    "\r\n",
    "for i in range(len(samples)-1):\r\n",
    "    sample_json = convert_to_json(samples[i])\r\n",
    "    print(sample_json)"
   ],
   "outputs": [
    {
     "output_type": "stream",
     "name": "stdout",
     "text": [
      "{\"E4_Bvp\": \"0.3150177\", \"dateTime\": \"2021-07-26T08:11:10\"}\n",
      "{\"E4_Bvp\": \"0.4125137\", \"dateTime\": \"2021-07-26T08:11:10\"}\n",
      "{\"E4_Bvp\": \"0.3905487\", \"dateTime\": \"2021-07-26T08:11:10\"}\n",
      "{\"E4_Bvp\": \"0.3139725\", \"dateTime\": \"2021-07-26T08:11:10\"}\n",
      "{\"E4_Bvp\": \"0.2639999\", \"dateTime\": \"2021-07-26T08:11:10\"}\n",
      "{\"E4_Bvp\": \"0.2732544\", \"dateTime\": \"2021-07-26T08:11:10\"}\n",
      "{\"E4_Bvp\": \"0.3248367\", \"dateTime\": \"2021-07-26T08:11:10\"}\n"
     ]
    }
   ],
   "metadata": {}
  },
  {
   "cell_type": "markdown",
   "source": [
    "# Code below works to send message to eventhub.  Eventhub sends batch of messages to blobstorage"
   ],
   "metadata": {}
  },
  {
   "cell_type": "code",
   "execution_count": 36,
   "source": [
    "#Sending multiples of the same message, probably because of the while/try is creating duplicates before sending the batch\r\n",
    "\r\n",
    "from azure.eventhub import EventHubProducerClient, EventData\r\n",
    "\r\n",
    "eventhub_name = 'eventhub'\r\n",
    "client = EventHubProducerClient.from_connection_string(os.environ.get('CONNECTION_STRING'), eventhub_name=eventhub_name)\r\n",
    "\r\n",
    "event_data_batch = client.create_batch()\r\n",
    "can_add = True\r\n",
    "while can_add:\r\n",
    "    try:\r\n",
    "        event_data_batch.add(EventData('{\"messageId\":3,\"deviceId\":\"Python Client\",\"temperature\":43.22222,\"humidity\":22.11111}'))  #JSON string\r\n",
    "    except ValueError:\r\n",
    "        can_add = False  # EventDataBatch object reaches max_size.\r\n",
    "\r\n",
    "with client:\r\n",
    "    client.send_batch(event_data_batch)\r\n",
    "\r\n",
    "client.close()"
   ],
   "outputs": [],
   "metadata": {}
  },
  {
   "cell_type": "code",
   "execution_count": 38,
   "source": [
    "client.close()"
   ],
   "outputs": [],
   "metadata": {}
  },
  {
   "cell_type": "code",
   "execution_count": 9,
   "source": [
    "import os\r\n",
    "\r\n",
    "os.environ['CONNECTION_STRING'] = 'Endpoint=sb://pythoneventhb.servicebus.windows.net/;SharedAccessKeyName=eventpolicy;SharedAccessKey=gR5uUifVoEXQpY57GvQMvZ/YUpAqA87A/hSo3JgdgC8=;EntityPath=eventhub'"
   ],
   "outputs": [],
   "metadata": {}
  },
  {
   "cell_type": "code",
   "execution_count": 2,
   "source": [
    "os.environ.get('CONNECTION_STRING')"
   ],
   "outputs": [
    {
     "output_type": "execute_result",
     "data": {
      "text/plain": [
       "'Endpoint=sb://pythoneventhb.servicebus.windows.net/;SharedAccessKeyName=eventpolicy;SharedAccessKey=gR5uUifVoEXQpY57GvQMvZ/YUpAqA87A/hSo3JgdgC8=;EntityPath=eventhub'"
      ]
     },
     "metadata": {},
     "execution_count": 2
    }
   ],
   "metadata": {}
  },
  {
   "cell_type": "code",
   "execution_count": 4,
   "source": [
    "import asyncio\r\n",
    "from azure.eventhub.aio import EventHubProducerClient\r\n",
    "from azure.eventhub import EventData\r\n",
    "\r\n",
    "\r\n",
    "    # Create a producer client to send messages to the event hub.\r\n",
    "    # Specify a connection string to your event hubs namespace and\r\n",
    "    # the event hub name.\r\n",
    "producer = EventHubProducerClient.from_connection_string(conn_str=\"pythonEventHb-Endpoint=sb://pythoneventhb.servicebus.windows.net/;SharedAccessKeyName=RootManageSharedAccessKey;SharedAccessKey=AQ/07wNguW0MtGKasw8IXcIoq9L3P44zwrFDsMLSWOg=\", eventhub_name=\"eventhub\")\r\n",
    "async with producer:\r\n",
    "    # Create a batch.\r\n",
    "    event_data_batch = await producer.create_batch()\r\n",
    "\r\n",
    "    # Add events to the batch.\r\n",
    "    event_data_batch.add(EventData('First event '))\r\n",
    "    event_data_batch.add(EventData('Second event'))\r\n",
    "    event_data_batch.add(EventData('Third event'))\r\n",
    "\r\n",
    "    # Send the batch of events to the event hub.\r\n",
    "    await producer.send_batch(event_data_batch)\r\n"
   ],
   "outputs": [
    {
     "output_type": "error",
     "ename": "ValueError",
     "evalue": "Connection string is either blank or malformed.",
     "traceback": [
      "\u001b[1;31m---------------------------------------------------------------------------\u001b[0m",
      "\u001b[1;31mValueError\u001b[0m                                Traceback (most recent call last)",
      "\u001b[1;32m<ipython-input-4-45e24a2932fc>\u001b[0m in \u001b[0;36masync-def-wrapper\u001b[1;34m()\u001b[0m\n\u001b[0;32m     10\u001b[0m \u001b[1;32masync\u001b[0m \u001b[1;32mwith\u001b[0m \u001b[0mproducer\u001b[0m\u001b[1;33m:\u001b[0m\u001b[1;33m\u001b[0m\u001b[1;33m\u001b[0m\u001b[0m\n\u001b[0;32m     11\u001b[0m     \u001b[1;31m# Create a batch.\u001b[0m\u001b[1;33m\u001b[0m\u001b[1;33m\u001b[0m\u001b[1;33m\u001b[0m\u001b[0m\n\u001b[1;32m---> 12\u001b[1;33m     \u001b[0mevent_data_batch\u001b[0m \u001b[1;33m=\u001b[0m \u001b[1;32mawait\u001b[0m \u001b[0mproducer\u001b[0m\u001b[1;33m.\u001b[0m\u001b[0mcreate_batch\u001b[0m\u001b[1;33m(\u001b[0m\u001b[1;33m)\u001b[0m\u001b[1;33m\u001b[0m\u001b[1;33m\u001b[0m\u001b[0m\n\u001b[0m\u001b[0;32m     13\u001b[0m \u001b[1;33m\u001b[0m\u001b[0m\n\u001b[0;32m     14\u001b[0m     \u001b[1;31m# Add events to the batch.\u001b[0m\u001b[1;33m\u001b[0m\u001b[1;33m\u001b[0m\u001b[1;33m\u001b[0m\u001b[0m\n",
      "\u001b[1;32mD:\\anaconda3\\lib\\site-packages\\azure\\eventhub\\aio\\_producer_client_async.py\u001b[0m in \u001b[0;36mfrom_connection_string\u001b[1;34m(cls, conn_str, eventhub_name, logging_enable, http_proxy, auth_timeout, user_agent, retry_total, transport_type, **kwargs)\u001b[0m\n\u001b[0;32m    233\u001b[0m             \u001b[0mretry_total\u001b[0m\u001b[1;33m=\u001b[0m\u001b[0mretry_total\u001b[0m\u001b[1;33m,\u001b[0m\u001b[1;33m\u001b[0m\u001b[1;33m\u001b[0m\u001b[0m\n\u001b[0;32m    234\u001b[0m             \u001b[0mtransport_type\u001b[0m\u001b[1;33m=\u001b[0m\u001b[0mtransport_type\u001b[0m\u001b[1;33m,\u001b[0m\u001b[1;33m\u001b[0m\u001b[1;33m\u001b[0m\u001b[0m\n\u001b[1;32m--> 235\u001b[1;33m             \u001b[1;33m**\u001b[0m\u001b[0mkwargs\u001b[0m\u001b[1;33m\u001b[0m\u001b[1;33m\u001b[0m\u001b[0m\n\u001b[0m\u001b[0;32m    236\u001b[0m         )\n\u001b[0;32m    237\u001b[0m         \u001b[1;32mreturn\u001b[0m \u001b[0mcls\u001b[0m\u001b[1;33m(\u001b[0m\u001b[1;33m**\u001b[0m\u001b[0mconstructor_args\u001b[0m\u001b[1;33m)\u001b[0m\u001b[1;33m\u001b[0m\u001b[1;33m\u001b[0m\u001b[0m\n",
      "\u001b[1;32mD:\\anaconda3\\lib\\site-packages\\azure\\eventhub\\aio\\_client_base_async.py\u001b[0m in \u001b[0;36m_from_connection_string\u001b[1;34m(conn_str, **kwargs)\u001b[0m\n\u001b[0;32m    152\u001b[0m     \u001b[1;33m@\u001b[0m\u001b[0mstaticmethod\u001b[0m\u001b[1;33m\u001b[0m\u001b[1;33m\u001b[0m\u001b[0m\n\u001b[0;32m    153\u001b[0m     \u001b[1;32mdef\u001b[0m \u001b[0m_from_connection_string\u001b[0m\u001b[1;33m(\u001b[0m\u001b[0mconn_str\u001b[0m\u001b[1;33m:\u001b[0m \u001b[0mstr\u001b[0m\u001b[1;33m,\u001b[0m \u001b[1;33m**\u001b[0m\u001b[0mkwargs\u001b[0m\u001b[1;33m)\u001b[0m \u001b[1;33m->\u001b[0m \u001b[0mDict\u001b[0m\u001b[1;33m[\u001b[0m\u001b[0mstr\u001b[0m\u001b[1;33m,\u001b[0m \u001b[0mAny\u001b[0m\u001b[1;33m]\u001b[0m\u001b[1;33m:\u001b[0m\u001b[1;33m\u001b[0m\u001b[1;33m\u001b[0m\u001b[0m\n\u001b[1;32m--> 154\u001b[1;33m         \u001b[0mhost\u001b[0m\u001b[1;33m,\u001b[0m \u001b[0mpolicy\u001b[0m\u001b[1;33m,\u001b[0m \u001b[0mkey\u001b[0m\u001b[1;33m,\u001b[0m \u001b[0mentity\u001b[0m\u001b[1;33m,\u001b[0m \u001b[0mtoken\u001b[0m\u001b[1;33m,\u001b[0m \u001b[0mtoken_expiry\u001b[0m \u001b[1;33m=\u001b[0m \u001b[0m_parse_conn_str\u001b[0m\u001b[1;33m(\u001b[0m\u001b[0mconn_str\u001b[0m\u001b[1;33m,\u001b[0m \u001b[1;33m**\u001b[0m\u001b[0mkwargs\u001b[0m\u001b[1;33m)\u001b[0m\u001b[1;33m\u001b[0m\u001b[1;33m\u001b[0m\u001b[0m\n\u001b[0m\u001b[0;32m    155\u001b[0m         \u001b[0mkwargs\u001b[0m\u001b[1;33m[\u001b[0m\u001b[1;34m\"fully_qualified_namespace\"\u001b[0m\u001b[1;33m]\u001b[0m \u001b[1;33m=\u001b[0m \u001b[0mhost\u001b[0m\u001b[1;33m\u001b[0m\u001b[1;33m\u001b[0m\u001b[0m\n\u001b[0;32m    156\u001b[0m         \u001b[0mkwargs\u001b[0m\u001b[1;33m[\u001b[0m\u001b[1;34m\"eventhub_name\"\u001b[0m\u001b[1;33m]\u001b[0m \u001b[1;33m=\u001b[0m \u001b[0mentity\u001b[0m\u001b[1;33m\u001b[0m\u001b[1;33m\u001b[0m\u001b[0m\n",
      "\u001b[1;32mD:\\anaconda3\\lib\\site-packages\\azure\\eventhub\\_client_base.py\u001b[0m in \u001b[0;36m_parse_conn_str\u001b[1;34m(conn_str, **kwargs)\u001b[0m\n\u001b[0;32m     95\u001b[0m     \u001b[1;31m# check that endpoint is valid\u001b[0m\u001b[1;33m\u001b[0m\u001b[1;33m\u001b[0m\u001b[1;33m\u001b[0m\u001b[0m\n\u001b[0;32m     96\u001b[0m     \u001b[1;32mif\u001b[0m \u001b[1;32mnot\u001b[0m \u001b[0mendpoint\u001b[0m\u001b[1;33m:\u001b[0m\u001b[1;33m\u001b[0m\u001b[1;33m\u001b[0m\u001b[0m\n\u001b[1;32m---> 97\u001b[1;33m         \u001b[1;32mraise\u001b[0m \u001b[0mValueError\u001b[0m\u001b[1;33m(\u001b[0m\u001b[1;34m\"Connection string is either blank or malformed.\"\u001b[0m\u001b[1;33m)\u001b[0m\u001b[1;33m\u001b[0m\u001b[1;33m\u001b[0m\u001b[0m\n\u001b[0m\u001b[0;32m     98\u001b[0m     \u001b[0mparsed\u001b[0m \u001b[1;33m=\u001b[0m \u001b[0murlparse\u001b[0m\u001b[1;33m(\u001b[0m\u001b[0mendpoint\u001b[0m\u001b[1;33m)\u001b[0m\u001b[1;33m\u001b[0m\u001b[1;33m\u001b[0m\u001b[0m\n\u001b[0;32m     99\u001b[0m     \u001b[1;32mif\u001b[0m \u001b[1;32mnot\u001b[0m \u001b[0mparsed\u001b[0m\u001b[1;33m.\u001b[0m\u001b[0mnetloc\u001b[0m\u001b[1;33m:\u001b[0m\u001b[1;33m\u001b[0m\u001b[1;33m\u001b[0m\u001b[0m\n",
      "\u001b[1;31mValueError\u001b[0m: Connection string is either blank or malformed."
     ]
    }
   ],
   "metadata": {}
  }
 ],
 "metadata": {
  "orig_nbformat": 4,
  "language_info": {
   "name": "python",
   "version": "3.7.6",
   "mimetype": "text/x-python",
   "codemirror_mode": {
    "name": "ipython",
    "version": 3
   },
   "pygments_lexer": "ipython3",
   "nbconvert_exporter": "python",
   "file_extension": ".py"
  },
  "kernelspec": {
   "name": "python3",
   "display_name": "Python 3.7.6 64-bit ('base': conda)"
  },
  "interpreter": {
   "hash": "7b4b4feff2f24a0f0a34464dbe537a36fda679851528fb8735cb41fa49dffb2d"
  }
 },
 "nbformat": 4,
 "nbformat_minor": 2
}
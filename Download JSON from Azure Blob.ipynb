{
    "cells": [
        {
            "cell_type": "code",
            "execution_count": null,
            "source": [
                "#pip install azure.storage.blob"
            ],
            "outputs": [],
            "metadata": {}
        },
        {
            "cell_type": "code",
            "execution_count": 3,
            "source": [
                "# Retrieve list of blobs from designated container\r\n",
                "# Check if blob name is a file name in current directory\r\n",
                "# If no same file name in directory, download the file associated with that blobname\r\n",
                "\r\n",
                "import time\r\n",
                "from azure.storage.blob import ContainerClient\r\n",
                "from azure.storage.blob import BlobServiceClient\r\n",
                "\r\n",
                "\r\n",
                "blob_service_client_instance = BlobServiceClient(account_url=STORAGEACCOUNTURL, credential=STORAGEACCOUNTKEY)\r\n",
                "container = ContainerClient.from_connection_string(conn_str=os.environ.get('AZURE_STORAGE_CONNECTION_STRING'), container_name=\"container2\")\r\n",
                "\r\n",
                "blob_list = container.list_blobs()\r\n",
                "for blob in blob_list:\r\n",
                "    print(blob.name + '\\n')\r\n",
                "    if blob.name not in os.listdir(os.curdir):\r\n",
                "        t1=time.time()\r\n",
                "        blob_client_instance = blob_service_client_instance.get_blob_client(\"container2\", blob.name, snapshot=None)\r\n",
                "        with open(blob.name, \"wb\") as my_blob:\r\n",
                "            blob_data = blob_client_instance.download_blob()\r\n",
                "            blob_data.readinto(my_blob)\r\n",
                "        t2=time.time()\r\n",
                "        print((\"It takes %s seconds to download \"+blob.name + '\\n') % (t2 - t1))\r\n",
                "\r\n",
                "\r\n",
                "\r\n"
            ],
            "outputs": [
                {
                    "output_type": "stream",
                    "name": "stdout",
                    "text": [
                        "0_2f7120ed65194093a6df6dacd979d706_1.json\n",
                        "\n",
                        "It takes 6.4971466064453125 seconds to download 0_2f7120ed65194093a6df6dacd979d706_1.json\n",
                        "0_4862fd0f886945c6b5fa1ed9b391e807_1.json\n",
                        "\n",
                        "It takes 7.05818772315979 seconds to download 0_4862fd0f886945c6b5fa1ed9b391e807_1.json\n",
                        "0_603c31b59afd4c0eb25fade694cdb24c_1.json\n",
                        "\n",
                        "It takes 5.959280490875244 seconds to download 0_603c31b59afd4c0eb25fade694cdb24c_1.json\n",
                        "0_6bf71ccc6254498bb6e52e10f45490d8_1.json\n",
                        "\n",
                        "It takes 6.578152656555176 seconds to download 0_6bf71ccc6254498bb6e52e10f45490d8_1.json\n",
                        "0_75d343691ca849bdb190d98b11f7edc9_1.json\n",
                        "\n",
                        "It takes 63.28916549682617 seconds to download 0_75d343691ca849bdb190d98b11f7edc9_1.json\n"
                    ]
                }
            ],
            "metadata": {}
        },
        {
            "cell_type": "code",
            "execution_count": 1,
            "source": [
                "STORAGEACCOUNTURL= \"https://uaholodecksensorlab.blob.core.windows.net\"\r\n",
                "STORAGEACCOUNTKEY= \"GX+Fn1hVo3RDWRGuCxMAVDVFA/maCM2NdGx4Kffv4tWnG6DU8C1NOVH5Rv694e3HVNCmlinkeAKMgnXBvsr7nA==\""
            ],
            "outputs": [],
            "metadata": {}
        },
        {
            "cell_type": "code",
            "execution_count": 2,
            "source": [
                "import os\r\n",
                "\r\n",
                "os.environ['AZURE_STORAGE_CONNECTION_STRING'] = \"DefaultEndpointsProtocol=https;AccountName=uaholodecksensorlab;AccountKey=GX+Fn1hVo3RDWRGuCxMAVDVFA/maCM2NdGx4Kffv4tWnG6DU8C1NOVH5Rv694e3HVNCmlinkeAKMgnXBvsr7nA==;EndpointSuffix=core.windows.net\""
            ],
            "outputs": [],
            "metadata": {}
        }
    ],
    "metadata": {
        "orig_nbformat": 4,
        "language_info": {
            "name": "python",
            "version": "3.7.6",
            "mimetype": "text/x-python",
            "codemirror_mode": {
                "name": "ipython",
                "version": 3
            },
            "pygments_lexer": "ipython3",
            "nbconvert_exporter": "python",
            "file_extension": ".py"
        },
        "kernelspec": {
            "name": "python3",
            "display_name": "Python 3.7.6 64-bit ('base': conda)"
        },
        "interpreter": {
            "hash": "7b4b4feff2f24a0f0a34464dbe537a36fda679851528fb8735cb41fa49dffb2d"
        }
    },
    "nbformat": 4,
    "nbformat_minor": 2
}
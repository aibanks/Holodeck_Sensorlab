{
    "cells": [
        {
            "cell_type": "code",
            "execution_count": null,
            "source": [
                "#pip install azure.storage.blob"
            ],
            "outputs": [],
            "metadata": {}
        },
        {
            "cell_type": "code",
            "execution_count": null,
            "source": [
                "# Retrieve list of blobs from designated container\r\n",
                "# Check if blob name is a file name in current directory\r\n",
                "# If no same file name in directory, download the file associated with that blobname\r\n",
                "\r\n",
                "import time\r\n",
                "from azure.storage.blob import ContainerClient\r\n",
                "from azure.storage.blob import BlobServiceClient\r\n",
                "\r\n",
                "\r\n",
                "blob_service_client_instance = BlobServiceClient(account_url=STORAGEACCOUNTURL, credential=STORAGEACCOUNTKEY)\r\n",
                "container = ContainerClient.from_connection_string(conn_str=os.environ.get('AZURE_STORAGE_CONNECTION_STRING'), container_name=\"container2\")\r\n",
                "\r\n",
                "blob_list = container.list_blobs()\r\n",
                "for blob in blob_list:\r\n",
                "    print(blob.name + '\\n')\r\n",
                "    if blob.name not in os.listdir(os.curdir):\r\n",
                "        t1=time.time()\r\n",
                "        blob_client_instance = blob_service_client_instance.get_blob_client(\"container2\", blob.name, snapshot=None)\r\n",
                "        with open(blob.name, \"wb\") as my_blob:\r\n",
                "            blob_data = blob_client_instance.download_blob()\r\n",
                "            blob_data.readinto(my_blob)\r\n",
                "        t2=time.time()\r\n",
                "        print((\"It takes %s seconds to download \"+blob.name) % (t2 - t1))\r\n",
                "\r\n",
                "\r\n",
                "\r\n"
            ],
            "outputs": [],
            "metadata": {}
        },
        {
            "cell_type": "code",
            "execution_count": 8,
            "source": [
                "STORAGEACCOUNTURL= \"https://uaholodecksensorlab.blob.core.windows.net\"\r\n",
                "STORAGEACCOUNTKEY= \"GX+Fn1hVo3RDWRGuCxMAVDVFA/maCM2NdGx4Kffv4tWnG6DU8C1NOVH5Rv694e3HVNCmlinkeAKMgnXBvsr7nA==\""
            ],
            "outputs": [],
            "metadata": {}
        },
        {
            "cell_type": "code",
            "execution_count": 9,
            "source": [
                "import os\r\n",
                "\r\n",
                "os.environ['AZURE_STORAGE_CONNECTION_STRING'] = \"DefaultEndpointsProtocol=https;AccountName=uaholodecksensorlab;AccountKey=GX+Fn1hVo3RDWRGuCxMAVDVFA/maCM2NdGx4Kffv4tWnG6DU8C1NOVH5Rv694e3HVNCmlinkeAKMgnXBvsr7nA==;EndpointSuffix=core.windows.net\""
            ],
            "outputs": [],
            "metadata": {}
        }
    ],
    "metadata": {
        "orig_nbformat": 4,
        "language_info": {
            "name": "python",
            "version": "3.7.6",
            "mimetype": "text/x-python",
            "codemirror_mode": {
                "name": "ipython",
                "version": 3
            },
            "pygments_lexer": "ipython3",
            "nbconvert_exporter": "python",
            "file_extension": ".py"
        },
        "kernelspec": {
            "name": "python3",
            "display_name": "Python 3.7.6 64-bit ('base': conda)"
        },
        "interpreter": {
            "hash": "7b4b4feff2f24a0f0a34464dbe537a36fda679851528fb8735cb41fa49dffb2d"
        }
    },
    "nbformat": 4,
    "nbformat_minor": 2
}
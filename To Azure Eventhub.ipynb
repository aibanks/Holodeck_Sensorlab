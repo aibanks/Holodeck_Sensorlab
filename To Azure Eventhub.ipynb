{
 "cells": [
  {
   "cell_type": "code",
   "execution_count": null,
   "source": [
    "#pip install azure-eventhub"
   ],
   "outputs": [],
   "metadata": {}
  },
  {
   "cell_type": "code",
   "execution_count": null,
   "source": [
    "#pip install azure-eventhub-checkpointstoreblob-aio"
   ],
   "outputs": [],
   "metadata": {}
  },
  {
   "cell_type": "code",
   "execution_count": 10,
   "source": [
    "import time\r\n",
    "from datetime import datetime\r\n",
    "\r\n",
    "t = time.time()\r\n",
    "\r\n",
    "print(t)"
   ],
   "outputs": [
    {
     "output_type": "stream",
     "name": "stdout",
     "text": [
      "1628094737.8189394\n"
     ]
    }
   ],
   "metadata": {}
  },
  {
   "cell_type": "code",
   "execution_count": 11,
   "source": [
    "datetime.fromtimestamp(t)"
   ],
   "outputs": [
    {
     "output_type": "execute_result",
     "data": {
      "text/plain": [
       "datetime.datetime(2021, 8, 4, 9, 32, 17, 818939)"
      ]
     },
     "metadata": {},
     "execution_count": 11
    }
   ],
   "metadata": {}
  },
  {
   "cell_type": "code",
   "execution_count": 16,
   "source": [
    "print(datetime.fromtimestamp(t).strftime(\"%Y-%m-%d %H:%M:%S\"))"
   ],
   "outputs": [
    {
     "output_type": "stream",
     "name": "stdout",
     "text": [
      "2021-08-04 09:32:17\n"
     ]
    }
   ],
   "metadata": {}
  },
  {
   "cell_type": "code",
   "execution_count": 14,
   "source": [
    "datetime.utcnow()"
   ],
   "outputs": [
    {
     "output_type": "execute_result",
     "data": {
      "text/plain": [
       "datetime.datetime(2021, 8, 4, 16, 34, 22, 927480)"
      ]
     },
     "metadata": {},
     "execution_count": 14
    }
   ],
   "metadata": {}
  },
  {
   "cell_type": "code",
   "execution_count": 17,
   "source": [
    "print(datetime.utcnow().isoformat(sep=' ', timespec='milliseconds'))"
   ],
   "outputs": [
    {
     "output_type": "stream",
     "name": "stdout",
     "text": [
      "2021-08-04 16:35:25.457\n"
     ]
    }
   ],
   "metadata": {}
  },
  {
   "cell_type": "code",
   "execution_count": 4,
   "source": [
    "disconnect()"
   ],
   "outputs": [],
   "metadata": {}
  },
  {
   "cell_type": "markdown",
   "source": [
    "# Code chunk below pushes live E4 data to Azure"
   ],
   "metadata": {}
  },
  {
   "cell_type": "code",
   "execution_count": null,
   "source": [
    "## Successful to recieve data from E4 and simultaneously push it to Azure\r\n",
    "\r\n",
    "import socket\r\n",
    "import time\r\n",
    "import pylsl\r\n",
    "from datetime import datetime \r\n",
    "import matplotlib.pyplot as plt\r\n",
    "import matplotlib.animation as animation\r\n",
    "from matplotlib.animation import FuncAnimation\r\n",
    "import requests\r\n",
    "import json\r\n",
    "from azure.eventhub import EventHubProducerClient, EventData\r\n",
    "import os\r\n",
    "import time\r\n",
    "\r\n",
    "from random import randint\r\n",
    "%matplotlib qt\r\n",
    "#%matplotlib inline\r\n",
    "\r\n",
    "participant = input(\"Participant's Full Name: \")\r\n",
    "participant_ID = input(\"Participant ID: \")\r\n",
    "startTime = time.time()\r\n",
    "session_ID = participant_ID +\"_\" + str(startTime)\r\n",
    "\r\n",
    "# SELECT DATA TO STREAM\r\n",
    "acc = True      # 3-axis acceleration\r\n",
    "bvp = True     # Blood Volume Pulse\r\n",
    "gsr = True      # Galvanic Skin Response (Electrodermal Activity)\r\n",
    "tmp = True      # Temperature\r\n",
    "ibi = True      # Interbeat Interval and Heartbeat\r\n",
    "bat = False      # Device Battery\r\n",
    "tag = False     # Tag taken from the device (by pressing the button)\r\n",
    "\r\n",
    "serverAddress = '127.0.0.1'\r\n",
    "serverPort = 28000\r\n",
    "bufferSize = 4096\r\n",
    "\r\n",
    "deviceID = 'CDCB11' # 'A03003'\r\n",
    "\r\n",
    "def connect():\r\n",
    "    global s\r\n",
    "    s = socket.socket(socket.AF_INET, socket.SOCK_STREAM)\r\n",
    "    s.settimeout(3)\r\n",
    "\r\n",
    "    print(\"Connecting to server\")\r\n",
    "    s.connect((serverAddress, serverPort))\r\n",
    "    print(\"Connected to server\\n\")\r\n",
    "\r\n",
    "    print(\"Devices available:\")\r\n",
    "    s.send(\"device_list\\r\\n\".encode())\r\n",
    "    response = s.recv(bufferSize)\r\n",
    "    print(response.decode(\"utf-8\"))\r\n",
    "\r\n",
    "    print(\"Connecting to device\")\r\n",
    "    s.send((\"device_connect \" + deviceID + \"\\r\\n\").encode())\r\n",
    "    response = s.recv(bufferSize)\r\n",
    "    print(response.decode(\"utf-8\"))\r\n",
    "\r\n",
    "    print(\"Pausing data receiving\")\r\n",
    "    s.send(\"pause ON\\r\\n\".encode())\r\n",
    "    response = s.recv(bufferSize)\r\n",
    "    print(response.decode(\"utf-8\"))\r\n",
    "connect()\r\n",
    "\r\n",
    "time.sleep(1)\r\n",
    "\r\n",
    "def suscribe_to_data():\r\n",
    "    if acc:\r\n",
    "        print(\"Suscribing to ACC\")\r\n",
    "        s.send((\"device_subscribe \" + 'acc' + \" ON\\r\\n\").encode())\r\n",
    "        response = s.recv(bufferSize)\r\n",
    "        print(response.decode(\"utf-8\"))\r\n",
    "    if bvp:\r\n",
    "        print(\"Suscribing to BVP\")\r\n",
    "        s.send((\"device_subscribe \" + 'bvp' + \" ON\\r\\n\").encode())\r\n",
    "        response = s.recv(bufferSize)\r\n",
    "        print(response.decode(\"utf-8\"))\r\n",
    "    if gsr:\r\n",
    "        print(\"Suscribing to GSR\")\r\n",
    "        s.send((\"device_subscribe \" + 'gsr' + \" ON\\r\\n\").encode())\r\n",
    "        response = s.recv(bufferSize)\r\n",
    "        print(response.decode(\"utf-8\"))\r\n",
    "    if tmp:\r\n",
    "        print(\"Suscribing to Temp\")\r\n",
    "        s.send((\"device_subscribe \" + 'tmp' + \" ON\\r\\n\").encode())\r\n",
    "        response = s.recv(bufferSize)\r\n",
    "        print(response.decode(\"utf-8\"))\r\n",
    "    if ibi:\r\n",
    "        print(\"Suscribing to IBI\")\r\n",
    "        s.send((\"device_subscribe \" + 'ibi' + \" ON\\r\\n\").encode())\r\n",
    "        response = s.recv(bufferSize)\r\n",
    "        print(response.decode(\"utf-8\"))\r\n",
    "    if bat:\r\n",
    "        print(\"Suscribing to Batt\")\r\n",
    "        s.send((\"device_subscribe \" + 'bat' + \" ON\\r\\n\").encode())\r\n",
    "        response = s.recv(bufferSize)\r\n",
    "        print(response.decode(\"utf-8\"))\r\n",
    "    if tag:\r\n",
    "        print(\"Suscribing to Tag\")\r\n",
    "        s.send((\"device_subscribe \" + 'tag' + \" ON\\r\\n\").encode())\r\n",
    "        response = s.recv(bufferSize)\r\n",
    "        print(response.decode(\"utf-8\"))\r\n",
    "\r\n",
    "    print(\"Resuming data receiving\")\r\n",
    "    s.send(\"pause OFF\\r\\n\".encode())\r\n",
    "    response = s.recv(bufferSize)\r\n",
    "    print(response.decode(\"utf-8\"))\r\n",
    "suscribe_to_data()\r\n",
    "\r\n",
    "time.sleep(1)\r\n",
    "\r\n",
    "def reconnect():\r\n",
    "    print(\"Reconnecting...\")\r\n",
    "    connect()\r\n",
    "    suscribe_to_data()\r\n",
    "    #stream()\r\n",
    "\r\n",
    "def disconnect():\r\n",
    "    s.send(\"device_disconnect\\r\\n\".encode())\r\n",
    "\r\n",
    "def convert_to_json(sample):\r\n",
    "    stream_type = sample.split()[0]\r\n",
    "    if stream_type == \"E4_Acc\":\r\n",
    "        new_timestamp = datetime.fromtimestamp(float(sample.split()[1])).isoformat(sep=' ', timespec='milliseconds') #recent update to include milliseconds\r\n",
    "        new_timestamp_unix = sample.split()[1] #recent update to include unix timestamp to make querying easier\r\n",
    "        new_data = [int(samples[i].split()[2].replace(',','.')), int(samples[i].split()[3].replace(',','.')), int(samples[i].split()[4].replace(',','.'))]\r\n",
    "        sample_jsonX = {\"stream_type\" : \"E4_Acc_X\", \"Value\" : new_data[0], \"dateTime\" : new_timestamp, \"dateTime_Unix\" : new_timestamp_unix, \"Session_ID\" : session_ID, \"Participant\" : participant, \"Participant_ID\" : participant_ID}\r\n",
    "        sample_jsonY = {\"stream_type\" : \"E4_Acc_Y\", \"Value\" : new_data[1], \"dateTime\" : new_timestamp, \"dateTime_Unix\" : new_timestamp_unix, \"Session_ID\" : session_ID, \"Participant\" : participant, \"Participant_ID\" : participant_ID}\r\n",
    "        sample_jsonZ = {\"stream_type\" : \"E4_Acc_Z\", \"Value\" : new_data[2], \"dateTime\" : new_timestamp, \"dateTime_Unix\" : new_timestamp_unix, \"Session_ID\" : session_ID, \"Participant\" : participant, \"Participant_ID\" : participant_ID}\r\n",
    "        sample_json = [sample_jsonX, sample_jsonY, sample_jsonZ]\r\n",
    "        sample_json = json.dumps(sample_json)    #might have issues from trying to batch more than 1 json at a time later in the code\r\n",
    "    else:\r\n",
    "        new_timestamp = datetime.fromtimestamp(float(sample.split()[1])).isoformat(sep=' ', timespec='milliseconds') #recent update to include milliseconds\r\n",
    "        new_timestamp_unix = sample.split()[1] #recent update to include unix timestamp to make querying easier\r\n",
    "        new_data = float(sample.split()[2])\r\n",
    "        sample_json = {\"stream_type\" : stream_type, \"Value\" : new_data, \"dateTime\" : new_timestamp, \"dateTime_Unix\" : new_timestamp_unix, \"Session_ID\" : session_ID, \"Participant\" : participant, \"Participant_ID\" : participant_ID}\r\n",
    "        sample_json = json.dumps(sample_json)\r\n",
    "    return(sample_json)\r\n",
    "\r\n",
    "eventhub_name = 'eventhub'\r\n",
    "client = EventHubProducerClient.from_connection_string(os.environ.get('CONNECTION_STRING'), eventhub_name=eventhub_name)\r\n",
    "\r\n",
    "\"\"\" metadata = json.dumps({\"Session_ID\" : session_ID, \"Participant\" : participant, \"Participant_ID\" : participant_ID, \"Start_Time\" : datetime.fromtimestamp(startTime).isoformat(sep=' ', timespec='milliseconds')})\r\n",
    "event_data_batch = client.create_batch()\r\n",
    "event_data_batch.add(EventData(metadata)) \"\"\"\r\n",
    "\r\n",
    "try:\r\n",
    "    while True:\r\n",
    "        response = s.recv(bufferSize).decode(\"utf-8\")\r\n",
    "        #print(response)\r\n",
    "        if \"connection lost to device\" in response:\r\n",
    "            print(response.decode(\"utf-8\"))\r\n",
    "            reconnect()\r\n",
    "        event_data_batch = client.create_batch()\r\n",
    "        samples = response.split(\"\\r\\n\")\r\n",
    "        for i in range(len(samples)-1):\r\n",
    "            sample_json = convert_to_json(samples[i])\r\n",
    "            print(sample_json)\r\n",
    "            event_data_batch.add(EventData(sample_json))\r\n",
    "        client.send_batch(event_data_batch)\r\n",
    "except KeyboardInterrupt:\r\n",
    "    print('interrupted!')\r\n",
    "    disconnect()\r\n",
    "\r\n"
   ],
   "outputs": [],
   "metadata": {}
  },
  {
   "cell_type": "code",
   "execution_count": 3,
   "source": [
    "disconnect()"
   ],
   "outputs": [],
   "metadata": {}
  },
  {
   "cell_type": "code",
   "execution_count": 1,
   "source": [
    "import os\r\n",
    "\r\n",
    "os.environ['CONNECTION_STRING'] = 'Endpoint=sb://pythoneventhb.servicebus.windows.net/;SharedAccessKeyName=eventpolicy;SharedAccessKey=gR5uUifVoEXQpY57GvQMvZ/YUpAqA87A/hSo3JgdgC8=;EntityPath=eventhub'"
   ],
   "outputs": [],
   "metadata": {}
  },
  {
   "cell_type": "code",
   "execution_count": null,
   "source": [
    "1629233473.7943938"
   ],
   "outputs": [],
   "metadata": {}
  },
  {
   "cell_type": "code",
   "execution_count": 4,
   "source": [
    "from datetime import datetime\r\n",
    "\r\n",
    "datetime.fromtimestamp(1629233473.7943938).isoformat(sep=' ', timespec='milliseconds')"
   ],
   "outputs": [
    {
     "output_type": "execute_result",
     "data": {
      "text/plain": [
       "'2021-08-17 13:51:13.794'"
      ]
     },
     "metadata": {},
     "execution_count": 4
    }
   ],
   "metadata": {}
  }
 ],
 "metadata": {
  "orig_nbformat": 4,
  "language_info": {
   "name": "python",
   "version": "3.7.6",
   "mimetype": "text/x-python",
   "codemirror_mode": {
    "name": "ipython",
    "version": 3
   },
   "pygments_lexer": "ipython3",
   "nbconvert_exporter": "python",
   "file_extension": ".py"
  },
  "kernelspec": {
   "name": "python3",
   "display_name": "Python 3.7.6 64-bit ('base': conda)"
  },
  "interpreter": {
   "hash": "7b4b4feff2f24a0f0a34464dbe537a36fda679851528fb8735cb41fa49dffb2d"
  }
 },
 "nbformat": 4,
 "nbformat_minor": 2
}
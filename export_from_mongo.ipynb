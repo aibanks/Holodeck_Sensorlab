{
 "cells": [
  {
   "cell_type": "code",
   "execution_count": 12,
   "source": [
    "import pymongo\r\n",
    "import pandas\r\n",
    "import json\r\n",
    "from pymongo import MongoClient\r\n",
    "\r\n",
    "Client_Mongo_new=MongoClient()\r\n",
    "\r\n",
    "db=Client_Mongo_new.Sensorlab\r\n",
    "c=db.test_nestedJSON\r\n",
    "\r\n",
    "cursor=c.find()\r\n",
    "docs=list(cursor)  #retrieves exported MongoDB data from database.\r\n",
    "\r\n",
    "for i in range(len(docs)):\r\n",
    "    docs[i]['_id'] = str(docs[i]['_id'])\r\n",
    "\r\n",
    "data = {'info':docs}\r\n",
    "\r\n",
    "jsonFile = open(\"data.json\", \"w\")\r\n",
    "jsonFile.write(json.dumps(data))\r\n",
    "jsonFile.close()\r\n"
   ],
   "outputs": [],
   "metadata": {}
  },
  {
   "cell_type": "code",
   "execution_count": 9,
   "source": [
    "for i in range(len(docs)):\r\n",
    "    docs[i]['_id'] = str(docs[i]['_id'])"
   ],
   "outputs": [],
   "metadata": {}
  },
  {
   "cell_type": "code",
   "execution_count": 10,
   "source": [
    "type(docs[1]['_id'])"
   ],
   "outputs": [
    {
     "output_type": "execute_result",
     "data": {
      "text/plain": [
       "str"
      ]
     },
     "metadata": {},
     "execution_count": 10
    }
   ],
   "metadata": {}
  }
 ],
 "metadata": {
  "orig_nbformat": 4,
  "language_info": {
   "name": "python",
   "version": "3.7.6",
   "mimetype": "text/x-python",
   "codemirror_mode": {
    "name": "ipython",
    "version": 3
   },
   "pygments_lexer": "ipython3",
   "nbconvert_exporter": "python",
   "file_extension": ".py"
  },
  "kernelspec": {
   "name": "python3",
   "display_name": "Python 3.7.6 64-bit ('base': conda)"
  },
  "interpreter": {
   "hash": "7b4b4feff2f24a0f0a34464dbe537a36fda679851528fb8735cb41fa49dffb2d"
  }
 },
 "nbformat": 4,
 "nbformat_minor": 2
}